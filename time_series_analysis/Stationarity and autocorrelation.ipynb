{
 "cells": [
  {
   "cell_type": "code",
   "execution_count": 1,
   "id": "9c1c508b",
   "metadata": {},
   "outputs": [],
   "source": [
    "import pandas as pd\n",
    "import matplotlib.pyplot as plt\n",
    "from statsmodels.graphics.tsaplots import plot_acf\n",
    "from statsmodels.graphics.tsaplots import plot_pacf\n",
    "from statsmodels.tsa.stattools import adfuller\n",
    "import scipy.stats as stats\n",
    "import numpy as np\n",
    "import statsmodels.api as sm"
   ]
  },
  {
   "cell_type": "code",
   "execution_count": 2,
   "id": "2055687e",
   "metadata": {},
   "outputs": [
    {
     "data": {
      "text/html": [
       "<div>\n",
       "<style scoped>\n",
       "    .dataframe tbody tr th:only-of-type {\n",
       "        vertical-align: middle;\n",
       "    }\n",
       "\n",
       "    .dataframe tbody tr th {\n",
       "        vertical-align: top;\n",
       "    }\n",
       "\n",
       "    .dataframe thead th {\n",
       "        text-align: right;\n",
       "    }\n",
       "</style>\n",
       "<table border=\"1\" class=\"dataframe\">\n",
       "  <thead>\n",
       "    <tr style=\"text-align: right;\">\n",
       "      <th></th>\n",
       "      <th>Time Stamp</th>\n",
       "      <th>PC Capman Pressure</th>\n",
       "      <th>PC Source 2 Freq</th>\n",
       "      <th>PC Source 2 Q</th>\n",
       "      <th>PC Source 2 Rate</th>\n",
       "      <th>PC Source 4 Freq</th>\n",
       "      <th>PC Source 4 Q</th>\n",
       "      <th>PC Source 4 Rate</th>\n",
       "      <th>PC Source 6 Freq</th>\n",
       "      <th>PC Source 6 Q</th>\n",
       "      <th>PC Source 6 Rate</th>\n",
       "      <th>Power Supply 1 Power</th>\n",
       "      <th>Power Supply 1 Voltage</th>\n",
       "      <th>Power Supply 3 Power</th>\n",
       "      <th>Power Supply 3 Voltage</th>\n",
       "      <th>Power Supply 5 DC Bias</th>\n",
       "      <th>Power Supply 5 Fwd Power</th>\n",
       "      <th>PC High Vac Valve Position</th>\n",
       "      <th>PC MFC 1 Flow</th>\n",
       "    </tr>\n",
       "  </thead>\n",
       "  <tbody>\n",
       "    <tr>\n",
       "      <th>0</th>\n",
       "      <td>2024-01-29 10:41:03.350</td>\n",
       "      <td>3.091478</td>\n",
       "      <td>5.983068e+06</td>\n",
       "      <td>96.613522</td>\n",
       "      <td>0.000074</td>\n",
       "      <td>5.986804e+06</td>\n",
       "      <td>97.360817</td>\n",
       "      <td>-0.000534</td>\n",
       "      <td>5.982949e+06</td>\n",
       "      <td>96.589794</td>\n",
       "      <td>0.000371</td>\n",
       "      <td>3.664503</td>\n",
       "      <td>458.575562</td>\n",
       "      <td>14.950192</td>\n",
       "      <td>403.740784</td>\n",
       "      <td>70</td>\n",
       "      <td>35</td>\n",
       "      <td>55</td>\n",
       "      <td>52.278508</td>\n",
       "    </tr>\n",
       "    <tr>\n",
       "      <th>1</th>\n",
       "      <td>2024-01-29 10:41:03.458</td>\n",
       "      <td>3.076219</td>\n",
       "      <td>5.983068e+06</td>\n",
       "      <td>96.613522</td>\n",
       "      <td>0.000074</td>\n",
       "      <td>5.986804e+06</td>\n",
       "      <td>97.360817</td>\n",
       "      <td>-0.000534</td>\n",
       "      <td>5.982949e+06</td>\n",
       "      <td>96.589794</td>\n",
       "      <td>0.000371</td>\n",
       "      <td>4.645786</td>\n",
       "      <td>441.413055</td>\n",
       "      <td>4.576301</td>\n",
       "      <td>395.895203</td>\n",
       "      <td>70</td>\n",
       "      <td>35</td>\n",
       "      <td>55</td>\n",
       "      <td>51.845823</td>\n",
       "    </tr>\n",
       "    <tr>\n",
       "      <th>2</th>\n",
       "      <td>2024-01-29 10:41:03.568</td>\n",
       "      <td>3.076219</td>\n",
       "      <td>5.983068e+06</td>\n",
       "      <td>96.613522</td>\n",
       "      <td>0.000074</td>\n",
       "      <td>5.986804e+06</td>\n",
       "      <td>97.360817</td>\n",
       "      <td>-0.000534</td>\n",
       "      <td>5.982949e+06</td>\n",
       "      <td>96.589794</td>\n",
       "      <td>0.000371</td>\n",
       "      <td>4.645786</td>\n",
       "      <td>441.413055</td>\n",
       "      <td>4.576301</td>\n",
       "      <td>395.895203</td>\n",
       "      <td>70</td>\n",
       "      <td>35</td>\n",
       "      <td>55</td>\n",
       "      <td>51.845823</td>\n",
       "    </tr>\n",
       "    <tr>\n",
       "      <th>3</th>\n",
       "      <td>2024-01-29 10:41:03.677</td>\n",
       "      <td>3.060960</td>\n",
       "      <td>5.983068e+06</td>\n",
       "      <td>96.613522</td>\n",
       "      <td>0.000074</td>\n",
       "      <td>5.986804e+06</td>\n",
       "      <td>97.360817</td>\n",
       "      <td>-0.000534</td>\n",
       "      <td>5.982949e+06</td>\n",
       "      <td>96.589794</td>\n",
       "      <td>0.000371</td>\n",
       "      <td>4.645786</td>\n",
       "      <td>441.413055</td>\n",
       "      <td>4.576301</td>\n",
       "      <td>395.895203</td>\n",
       "      <td>70</td>\n",
       "      <td>35</td>\n",
       "      <td>55</td>\n",
       "      <td>51.714321</td>\n",
       "    </tr>\n",
       "    <tr>\n",
       "      <th>4</th>\n",
       "      <td>2024-01-29 10:41:03.785</td>\n",
       "      <td>3.060960</td>\n",
       "      <td>5.983068e+06</td>\n",
       "      <td>96.613522</td>\n",
       "      <td>0.000074</td>\n",
       "      <td>5.986804e+06</td>\n",
       "      <td>97.360817</td>\n",
       "      <td>-0.000534</td>\n",
       "      <td>5.982949e+06</td>\n",
       "      <td>96.589794</td>\n",
       "      <td>0.000371</td>\n",
       "      <td>4.645786</td>\n",
       "      <td>441.413055</td>\n",
       "      <td>4.576301</td>\n",
       "      <td>395.895203</td>\n",
       "      <td>70</td>\n",
       "      <td>35</td>\n",
       "      <td>55</td>\n",
       "      <td>51.714321</td>\n",
       "    </tr>\n",
       "  </tbody>\n",
       "</table>\n",
       "</div>"
      ],
      "text/plain": [
       "               Time Stamp  PC Capman Pressure  PC Source 2 Freq  \\\n",
       "0 2024-01-29 10:41:03.350            3.091478      5.983068e+06   \n",
       "1 2024-01-29 10:41:03.458            3.076219      5.983068e+06   \n",
       "2 2024-01-29 10:41:03.568            3.076219      5.983068e+06   \n",
       "3 2024-01-29 10:41:03.677            3.060960      5.983068e+06   \n",
       "4 2024-01-29 10:41:03.785            3.060960      5.983068e+06   \n",
       "\n",
       "   PC Source 2 Q  PC Source 2 Rate  PC Source 4 Freq  PC Source 4 Q  \\\n",
       "0      96.613522          0.000074      5.986804e+06      97.360817   \n",
       "1      96.613522          0.000074      5.986804e+06      97.360817   \n",
       "2      96.613522          0.000074      5.986804e+06      97.360817   \n",
       "3      96.613522          0.000074      5.986804e+06      97.360817   \n",
       "4      96.613522          0.000074      5.986804e+06      97.360817   \n",
       "\n",
       "   PC Source 4 Rate  PC Source 6 Freq  PC Source 6 Q  PC Source 6 Rate  \\\n",
       "0         -0.000534      5.982949e+06      96.589794          0.000371   \n",
       "1         -0.000534      5.982949e+06      96.589794          0.000371   \n",
       "2         -0.000534      5.982949e+06      96.589794          0.000371   \n",
       "3         -0.000534      5.982949e+06      96.589794          0.000371   \n",
       "4         -0.000534      5.982949e+06      96.589794          0.000371   \n",
       "\n",
       "   Power Supply 1 Power  Power Supply 1 Voltage  Power Supply 3 Power  \\\n",
       "0              3.664503              458.575562             14.950192   \n",
       "1              4.645786              441.413055              4.576301   \n",
       "2              4.645786              441.413055              4.576301   \n",
       "3              4.645786              441.413055              4.576301   \n",
       "4              4.645786              441.413055              4.576301   \n",
       "\n",
       "   Power Supply 3 Voltage  Power Supply 5 DC Bias  Power Supply 5 Fwd Power  \\\n",
       "0              403.740784                      70                        35   \n",
       "1              395.895203                      70                        35   \n",
       "2              395.895203                      70                        35   \n",
       "3              395.895203                      70                        35   \n",
       "4              395.895203                      70                        35   \n",
       "\n",
       "   PC High Vac Valve Position  PC MFC 1 Flow  \n",
       "0                          55      52.278508  \n",
       "1                          55      51.845823  \n",
       "2                          55      51.845823  \n",
       "3                          55      51.714321  \n",
       "4                          55      51.714321  "
      ]
     },
     "execution_count": 2,
     "metadata": {},
     "output_type": "execute_result"
    }
   ],
   "source": [
    "file = '../example_data/Recording Set 2024.01.29-10.41.03.CSV'\n",
    "\n",
    "# Read experiment data\n",
    "df = pd.read_csv(file, skiprows=[0,1]) # read, skip info rows\n",
    "\n",
    "\n",
    "# Convert to datetime\n",
    "df['Time Stamp'] = pd.to_datetime(df['Time Stamp'], format='%b-%d-%Y %H:%M:%S.%f %p')\n",
    "\n",
    "# Inspect data\n",
    "df.head()"
   ]
  },
  {
   "cell_type": "code",
   "execution_count": 3,
   "id": "80e2a43a",
   "metadata": {},
   "outputs": [],
   "source": [
    "p1 = 'Power Supply 1 Voltage'\n",
    "p2 = 'Power Supply 3 Voltage'\n",
    "p3 = 'Power Supply 5 DC Bias'\n",
    "\n",
    "ps = [p1,p2,p3]\n"
   ]
  },
  {
   "cell_type": "code",
   "execution_count": 4,
   "id": "1ed53195",
   "metadata": {},
   "outputs": [
    {
     "data": {
      "image/png": "[encoded data removed]",
      "text/plain": [
       "<Figure size 640x480 with 1 Axes>"
      ]
     },
     "metadata": {},
     "output_type": "display_data"
    }
   ],
   "source": [
    "plotdf = df[ps]\n",
    "plotdf.plot()\n",
    "plt.show()"
   ]
  },
  {
   "cell_type": "markdown",
   "id": "7953603b",
   "metadata": {},
   "source": [
    "# Rolling std"
   ]
  },
  {
   "cell_type": "code",
   "execution_count": 5,
   "id": "34395973",
   "metadata": {},
   "outputs": [
    {
     "name": "stdout",
     "output_type": "stream",
     "text": [
      "Power Supply 1 Voltage\n",
      "Power Supply 3 Voltage\n",
      "Power Supply 5 DC Bias\n"
     ]
    },
    {
     "data": {
      "image/png": "[encoded data removed]",
      "text/plain": [
       "<Figure size 640x480 with 1 Axes>"
      ]
     },
     "metadata": {},
     "output_type": "display_data"
    }
   ],
   "source": [
    "for p in ps:\n",
    "    df[p].rolling(2).std().plot()"
   ]
  },
  {
   "cell_type": "markdown",
   "id": "64592573",
   "metadata": {},
   "source": [
    "# Augmented Dickey-Fuller unit root test\n",
    "\n",
    "### Doesn't seem to work, all three classified as stationary. Also, small differences in p-value."
   ]
  },
  {
   "cell_type": "code",
   "execution_count": 8,
   "id": "8d1b8462",
   "metadata": {},
   "outputs": [
    {
     "name": "stdout",
     "output_type": "stream",
     "text": [
      "Power Supply 1 Voltage\n",
      "(-5.241117370246814, 7.242577724925659e-06, 4, 215, {'1%': -3.461136478222043, '5%': -2.875078880098608, '10%': -2.5739861168199027}, 1142.4574124314702)\n",
      "Power Supply 3 Voltage\n",
      "(-3.9424808165681546, 0.0017435282955679204, 10, 209, {'1%': -3.4620315036789666, '5%': -2.8754705024827127, '10%': -2.5741950726860647}, 2039.4451956388123)\n",
      "Power Supply 5 DC Bias\n",
      "(-4.8340349237895515, 4.679320550324208e-05, 5, 214, {'1%': -3.4612821203214907, '5%': -2.875142613826617, '10%': -2.574020122281422}, -29.586562833422192)\n"
     ]
    }
   ],
   "source": [
    "for p in ps:\n",
    "    \n",
    "    print(p)\n",
    "    \n",
    "    print(adfuller(df[p]))"
   ]
  },
  {
   "cell_type": "markdown",
   "id": "6cda269e",
   "metadata": {},
   "source": [
    "# KPSS test \n",
    "\n",
    "### Doesn't seem to work (https://statology.org/kpss-test-in-python/)."
   ]
  },
  {
   "cell_type": "code",
   "execution_count": 6,
   "id": "90efdad2",
   "metadata": {},
   "outputs": [
    {
     "name": "stdout",
     "output_type": "stream",
     "text": [
      "Power Supply 1 Voltage\n",
      "(0.0733051662863167, 0.1, 8, {'10%': 0.119, '5%': 0.146, '2.5%': 0.176, '1%': 0.216})\n",
      "Power Supply 3 Voltage\n",
      "(0.0592313460650454, 0.1, 8, {'10%': 0.119, '5%': 0.146, '2.5%': 0.176, '1%': 0.216})\n",
      "Power Supply 5 DC Bias\n",
      "(0.05852367169249, 0.1, 8, {'10%': 0.119, '5%': 0.146, '2.5%': 0.176, '1%': 0.216})\n"
     ]
    },
    {
     "name": "stderr",
     "output_type": "stream",
     "text": [
      "/var/folders/z7/hhdyq2c544q40kc9g6q0kqd00000gn/T/ipykernel_11942/2695750822.py:5: InterpolationWarning: The test statistic is outside of the range of p-values available in the\n",
      "look-up table. The actual p-value is greater than the p-value returned.\n",
      "\n",
      "  print(sm.tsa.stattools.kpss(df[p], regression='ct'))\n",
      "/var/folders/z7/hhdyq2c544q40kc9g6q0kqd00000gn/T/ipykernel_11942/2695750822.py:5: InterpolationWarning: The test statistic is outside of the range of p-values available in the\n",
      "look-up table. The actual p-value is greater than the p-value returned.\n",
      "\n",
      "  print(sm.tsa.stattools.kpss(df[p], regression='ct'))\n",
      "/var/folders/z7/hhdyq2c544q40kc9g6q0kqd00000gn/T/ipykernel_11942/2695750822.py:5: InterpolationWarning: The test statistic is outside of the range of p-values available in the\n",
      "look-up table. The actual p-value is greater than the p-value returned.\n",
      "\n",
      "  print(sm.tsa.stattools.kpss(df[p], regression='ct'))\n"
     ]
    }
   ],
   "source": [
    "for p in ps:\n",
    "    \n",
    "    print(p)\n",
    "    \n",
    "    print(sm.tsa.stattools.kpss(df[p], regression='ct'))\n",
    "    \n",
    "\n",
    "plt.show()\n"
   ]
  },
  {
   "cell_type": "markdown",
   "id": "305ba9e4",
   "metadata": {},
   "source": [
    "# Autocorrelation \n",
    "\n",
    "### Doesn't seem to work. Tried with different lags but it is hard to make a meaningful distinction"
   ]
  },
  {
   "cell_type": "code",
   "execution_count": 7,
   "id": "0f6fcf5b",
   "metadata": {},
   "outputs": [
    {
     "name": "stdout",
     "output_type": "stream",
     "text": [
      "Power Supply 1 Voltage\n",
      "0.8390752821103445\n",
      "Power Supply 3 Voltage\n",
      "0.809386374224236\n",
      "Power Supply 5 DC Bias\n",
      "0.7921074043938146\n"
     ]
    }
   ],
   "source": [
    "for p in ps:\n",
    "    \n",
    "    print(p)\n",
    "    \n",
    "    print(df[p].autocorr())\n",
    "\n",
    "\n",
    "#plt.show()"
   ]
  },
  {
   "cell_type": "code",
   "execution_count": null,
   "id": "afc68523",
   "metadata": {},
   "outputs": [],
   "source": []
  }
 ],
 "metadata": {
  "kernelspec": {
   "display_name": "Python 3 (ipykernel)",
   "language": "python",
   "name": "python3"
  },
  "language_info": {
   "codemirror_mode": {
    "name": "ipython",
    "version": 3
   },
   "file_extension": ".py",
   "mimetype": "text/x-python",
   "name": "python",
   "nbconvert_exporter": "python",
   "pygments_lexer": "ipython3",
   "version": "3.11.4"
  }
 },
 "nbformat": 4,
 "nbformat_minor": 5
}
