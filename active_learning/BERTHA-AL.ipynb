{
 "cells": [
  {
   "cell_type": "code",
   "execution_count": 11,
   "id": "dbfc7635",
   "metadata": {},
   "outputs": [],
   "source": [
    "import pandas as pd\n",
    "import numpy as np\n",
    "import matplotlib.pyplot as plt\n",
    "from pymongo import MongoClient\n",
    "from modAL.models import ActiveLearner\n",
    "from modAL.uncertainty import uncertainty_sampling\n",
    "from sklearn.ensemble import RandomForestClassifier"
   ]
  },
  {
   "cell_type": "code",
   "execution_count": 2,
   "id": "6fd4bb41",
   "metadata": {},
   "outputs": [],
   "source": [
    "# Connect to database server\n",
    "client = MongoClient()\n",
    "\n",
    "# Get database\n",
    "db = client.BERTHA\n",
    "\n",
    "# Get collection\n",
    "collection = db.experiments"
   ]
  },
  {
   "cell_type": "code",
   "execution_count": 3,
   "id": "b5d73842",
   "metadata": {},
   "outputs": [],
   "source": [
    "df = pd.DataFrame(list(collection.find()))\n",
    "params = ['Power_Ax1_setpoint_[W]', 'Power_Ax2_setpoint_[W]', 'Power_Ax3_setpoint_[W]']\n",
    "X = df[params].to_numpy()\n",
    "target = ['Settled']\n",
    "y = df[target].to_numpy()"
   ]
  },
  {
   "cell_type": "markdown",
   "id": "423967ab",
   "metadata": {},
   "source": [
    "# TODO\n",
    "\n",
    "- ~~What happens in the only one class case? Answer, no issues. Works just fine.\n",
    "- Test the AL class on some data and make sure that it works reasonably.\n",
    "- Test MongoDB filtering with queries. Make sure that it works."
   ]
  },
  {
   "cell_type": "code",
   "execution_count": 22,
   "id": "fdf85269",
   "metadata": {},
   "outputs": [],
   "source": [
    "class ActiveLearnerBERTHA:\n",
    "    '''\n",
    "    The active learning class made specifically for the BERTHA setup. \n",
    "    This class augments the active learner from ModAL. It learns from \n",
    "    data taken from the database used by BERTHA, and it stores the data\n",
    "    that it has learned from to generate new queries in a pool-based\n",
    "    setting. \n",
    "    '''\n",
    "    \n",
    "    def __init__(self, \n",
    "                 mongodb_collection, \n",
    "                 input_args : list, \n",
    "                 input_ranges : list, \n",
    "                 target : list\n",
    "                ):\n",
    "        '''\n",
    "        Params\n",
    "        ------\n",
    "        mongodb_collection: the MongoDB collection from the database to train from\n",
    "        input_args: list of parameters from database to train on, example: [pressure, power1, power2]\n",
    "        input_ranges: list of ranges for each input parameter, example: [50, 70, 120].\n",
    "        Note that input_args and input_ranges must map 1:1. This is also error checked by \n",
    "        the constructor.\n",
    "        target: list the classifier target. example: [\"Settled\"]\n",
    "        '''\n",
    "        \n",
    "        self.collection = mongodb_collection\n",
    "        self.input_args = input_args\n",
    "        self.input_ranges = input_ranges\n",
    "        self.target = target\n",
    "        self.X = np.empty((0,len(input_args)), int)\n",
    "        self.y = np.empty((0,len(target)), int)\n",
    "        \n",
    "        assert(len(input_args) == len(input_ranges))\n",
    "        \n",
    "        self.learner = ActiveLearner(\n",
    "        estimator=RandomForestClassifier(),\n",
    "        query_strategy=uncertainty_sampling\n",
    "        )\n",
    "        \n",
    "\n",
    "    def learn_from_db(self, mongodb_query : dict = {}) -> None:\n",
    "        '''\n",
    "        Trains the active learner from the available data in the database.\n",
    "        \n",
    "        Params\n",
    "        ------\n",
    "        mongodb_query : filters data according to the MongoDB query language \n",
    "        (https://www.mongodb.com/docs/manual/tutorial/query-documents/).\n",
    "        Defaults to no query.\n",
    "        '''\n",
    "        \n",
    "        # Filter data from the database based on the MongoDB_query parameter\n",
    "        df = pd.DataFrame(list(collection.find(mongodb_query)))\n",
    "        \n",
    "        # Train the active learner on the data from the database\n",
    "        self.X = df[self.input_args].to_numpy()\n",
    "        self.y = df[self.target].to_numpy().ravel()\n",
    "        self.learner.teach(X=self.X, y=self.y)\n",
    "        \n",
    "\n",
    "    def get_process_params(self, pool_size=500) -> np.ndarray:\n",
    "        '''\n",
    "        Query the active learner for the next set of most informative\n",
    "        experiment parameters.\n",
    "        \n",
    "        Params\n",
    "        ------\n",
    "        pool_size: amount of randomly generated datapoints to evaluate\n",
    "        in the pool-based setting. The higher the number, the greater the\n",
    "        information gain; however, this comes at the cost of higher\n",
    "        computation.\n",
    "        \n",
    "        Returns\n",
    "        -------\n",
    "        A numpy array of the most informative set of process parameters \n",
    "        from the generated pool for the next experiment experiment.\n",
    "        '''\n",
    "        \n",
    "        # Generate pool of data\n",
    "        pool = np.random.randint(self.input_ranges, size=(pool_size, len(self.input_ranges)))\n",
    "        \n",
    "        # Remove elements from pool already in the training data (set difference: pool - self.X)\n",
    "        pool = pool[~((pool[:,None,:] == self.X).all(-1)).any(1)]\n",
    "        \n",
    "        # Query the active learner\n",
    "        query_index, query_parameters = self.learner.query(pool)\n",
    "        \n",
    "        return query_parameters\n",
    "    "
   ]
  },
  {
   "cell_type": "code",
   "execution_count": 23,
   "id": "3a2057e0",
   "metadata": {},
   "outputs": [],
   "source": [
    "alb = ActiveLearnerBERTHA(collection, params, [80,80,80], target)"
   ]
  },
  {
   "cell_type": "code",
   "execution_count": 24,
   "id": "72411ebe",
   "metadata": {},
   "outputs": [],
   "source": [
    "alb.learn_from_db()"
   ]
  },
  {
   "cell_type": "code",
   "execution_count": 25,
   "id": "49e90016",
   "metadata": {},
   "outputs": [
    {
     "data": {
      "text/plain": [
       "array([[22, 71, 36]])"
      ]
     },
     "execution_count": 25,
     "metadata": {},
     "output_type": "execute_result"
    }
   ],
   "source": [
    "alb.get_process_params()"
   ]
  },
  {
   "cell_type": "code",
   "execution_count": null,
   "id": "6c6ba653",
   "metadata": {},
   "outputs": [],
   "source": []
  },
  {
   "cell_type": "code",
   "execution_count": null,
   "id": "1483dca0",
   "metadata": {},
   "outputs": [],
   "source": []
  },
  {
   "cell_type": "code",
   "execution_count": null,
   "id": "7782e152",
   "metadata": {},
   "outputs": [],
   "source": []
  },
  {
   "cell_type": "code",
   "execution_count": null,
   "id": "89be2fe8",
   "metadata": {},
   "outputs": [],
   "source": []
  },
  {
   "cell_type": "code",
   "execution_count": null,
   "id": "787db4f3",
   "metadata": {},
   "outputs": [],
   "source": []
  },
  {
   "cell_type": "code",
   "execution_count": null,
   "id": "2f7a75e8",
   "metadata": {},
   "outputs": [],
   "source": []
  },
  {
   "cell_type": "code",
   "execution_count": null,
   "id": "3b9ef4f6",
   "metadata": {},
   "outputs": [],
   "source": []
  },
  {
   "cell_type": "code",
   "execution_count": null,
   "id": "821cc68c",
   "metadata": {},
   "outputs": [],
   "source": []
  },
  {
   "cell_type": "code",
   "execution_count": null,
   "id": "2c6f9261",
   "metadata": {},
   "outputs": [],
   "source": []
  },
  {
   "cell_type": "code",
   "execution_count": null,
   "id": "7e2f1050",
   "metadata": {},
   "outputs": [],
   "source": []
  },
  {
   "cell_type": "code",
   "execution_count": null,
   "id": "fcfecea1",
   "metadata": {},
   "outputs": [],
   "source": []
  },
  {
   "cell_type": "code",
   "execution_count": null,
   "id": "e5e286c3",
   "metadata": {},
   "outputs": [],
   "source": []
  },
  {
   "cell_type": "code",
   "execution_count": null,
   "id": "d238c09c",
   "metadata": {},
   "outputs": [],
   "source": []
  },
  {
   "cell_type": "code",
   "execution_count": null,
   "id": "acadeb4d",
   "metadata": {},
   "outputs": [],
   "source": []
  },
  {
   "cell_type": "markdown",
   "id": "49a04a8b",
   "metadata": {},
   "source": [
    "# Experiment corner"
   ]
  },
  {
   "cell_type": "code",
   "execution_count": null,
   "id": "89ea40de",
   "metadata": {},
   "outputs": [],
   "source": [
    "class Test:\n",
    "    \n",
    "    def set_smth(self, arg):\n",
    "        self.arg = arg"
   ]
  },
  {
   "cell_type": "code",
   "execution_count": null,
   "id": "5f4fd7e3",
   "metadata": {},
   "outputs": [],
   "source": [
    "t = Test()"
   ]
  },
  {
   "cell_type": "code",
   "execution_count": null,
   "id": "71794fc1",
   "metadata": {},
   "outputs": [],
   "source": [
    "t.set_smth('hi')"
   ]
  },
  {
   "cell_type": "code",
   "execution_count": null,
   "id": "8b8b7baf",
   "metadata": {},
   "outputs": [],
   "source": [
    "t.arg"
   ]
  },
  {
   "cell_type": "code",
   "execution_count": null,
   "id": "6baff7e1",
   "metadata": {},
   "outputs": [],
   "source": []
  },
  {
   "cell_type": "code",
   "execution_count": null,
   "id": "c307aba3",
   "metadata": {},
   "outputs": [],
   "source": []
  },
  {
   "cell_type": "code",
   "execution_count": null,
   "id": "d4466b65",
   "metadata": {},
   "outputs": [],
   "source": []
  },
  {
   "cell_type": "code",
   "execution_count": null,
   "id": "da4d0c3f",
   "metadata": {},
   "outputs": [],
   "source": []
  },
  {
   "cell_type": "markdown",
   "id": "4745d479",
   "metadata": {},
   "source": [
    "## Generate pool"
   ]
  },
  {
   "cell_type": "code",
   "execution_count": null,
   "id": "3de95395",
   "metadata": {},
   "outputs": [],
   "source": [
    "bounds = [5, 120, 2400]\n",
    "n = 10\n",
    "np.random.randint(bounds, size=(n, 3))"
   ]
  },
  {
   "cell_type": "code",
   "execution_count": null,
   "id": "dfca4a49",
   "metadata": {},
   "outputs": [],
   "source": []
  },
  {
   "cell_type": "code",
   "execution_count": null,
   "id": "452e5d8c",
   "metadata": {},
   "outputs": [],
   "source": []
  },
  {
   "cell_type": "code",
   "execution_count": null,
   "id": "7bfa9244",
   "metadata": {},
   "outputs": [],
   "source": [
    "A = np.array([[1,4,3],[2,5,1],[7,8,9]])\n",
    "B = np.array([[1,4,3],[3,6,1],[7,8,9]])\n",
    "\n",
    "A = A[~((A[:,None,:] == B).all(-1)).any(1)]"
   ]
  },
  {
   "cell_type": "code",
   "execution_count": null,
   "id": "a2c3c83c",
   "metadata": {},
   "outputs": [],
   "source": [
    "type(A)"
   ]
  },
  {
   "cell_type": "code",
   "execution_count": null,
   "id": "21ae5cb5",
   "metadata": {},
   "outputs": [],
   "source": []
  }
 ],
 "metadata": {
  "kernelspec": {
   "display_name": "Python 3 (ipykernel)",
   "language": "python",
   "name": "python3"
  },
  "language_info": {
   "codemirror_mode": {
    "name": "ipython",
    "version": 3
   },
   "file_extension": ".py",
   "mimetype": "text/x-python",
   "name": "python",
   "nbconvert_exporter": "python",
   "pygments_lexer": "ipython3",
   "version": "3.11.4"
  }
 },
 "nbformat": 4,
 "nbformat_minor": 5
}
