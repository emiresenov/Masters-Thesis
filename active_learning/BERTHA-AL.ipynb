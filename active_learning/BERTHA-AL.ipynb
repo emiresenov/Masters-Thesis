{
 "cells": [
  {
   "cell_type": "code",
   "execution_count": 1,
   "id": "dbfc7635",
   "metadata": {},
   "outputs": [],
   "source": [
    "import pandas as pd\n",
    "import numpy as np\n",
    "import matplotlib.pyplot as plt\n",
    "from pymongo import MongoClient\n",
    "from modAL.models import ActiveLearner\n",
    "from modAL.uncertainty import uncertainty_sampling\n",
    "from sklearn.ensemble import RandomForestClassifier"
   ]
  },
  {
   "cell_type": "code",
   "execution_count": 2,
   "id": "6fd4bb41",
   "metadata": {},
   "outputs": [],
   "source": [
    "# Connect to database server\n",
    "client = MongoClient()\n",
    "\n",
    "# Get database\n",
    "db = client.BERTHA\n",
    "\n",
    "# Get collection\n",
    "collection = db.experiments"
   ]
  },
  {
   "cell_type": "code",
   "execution_count": 3,
   "id": "b5d73842",
   "metadata": {},
   "outputs": [],
   "source": [
    "df = pd.DataFrame(list(collection.find()))\n",
    "params = ['Power_Ax1_setpoint_[W]', 'Power_Ax2_setpoint_[W]', 'Power_Ax3_setpoint_[W]']\n",
    "X = df[params].to_numpy()\n",
    "target = ['Settled']\n",
    "y = df[target].to_numpy()"
   ]
  },
  {
   "cell_type": "code",
   "execution_count": 4,
   "id": "fdf85269",
   "metadata": {},
   "outputs": [],
   "source": [
    "'''\n",
    "TO CHECK WHEN IMPLEMENTING IN LAB\n",
    "---------------------------------\n",
    "\n",
    "- Make sure that ObjectID field type isn't an issue when reading from database. \n",
    "In our datafile, the prefix \"$\" before oid (objectid) caused a parsing issue, so I had to\n",
    "manually remove it. However, the data came from a JSON dump of MongoDB. I suspect this won't\n",
    "be an issue if we read from the database via PyMongo directly.\n",
    "'''\n",
    "\n",
    "class ActiveLearnerBERTHA:\n",
    "    '''\n",
    "    The active learning class made specifically for the BERTHA setup. \n",
    "    This class augments the active learner from ModAL. It learns from \n",
    "    data taken from the database used by BERTHA, and it stores the data\n",
    "    that it has learned from to generate new queries in a pool-based\n",
    "    setting. \n",
    "    '''\n",
    "    \n",
    "    def __init__(self, \n",
    "                 mongodb_collection, \n",
    "                 input_args : list, \n",
    "                 input_ranges : list, \n",
    "                 target : list\n",
    "                ):\n",
    "        '''\n",
    "        Params\n",
    "        ------\n",
    "        mongodb_collection: the MongoDB collection from the database to train from\n",
    "        input_args: list of parameters from database to train on, example: [pressure, power1, power2]\n",
    "        input_ranges: list of ranges for each input parameter, example: [50, 70, 120].\n",
    "        Note that input_args and input_ranges must map 1:1. This is also error checked by \n",
    "        the constructor.\n",
    "        target: list the classifier target. example: [\"Settled\"]\n",
    "        '''\n",
    "        \n",
    "        self.collection = mongodb_collection\n",
    "        self.input_args = input_args\n",
    "        self.input_ranges = input_ranges\n",
    "        self.target = target\n",
    "        self.X = np.empty((0,len(input_args)), int)\n",
    "        self.y = np.empty((0,len(target)), int)\n",
    "        \n",
    "        assert(len(input_args) == len(input_ranges))\n",
    "        \n",
    "        self.learner = ActiveLearner(\n",
    "        estimator=RandomForestClassifier(),\n",
    "        query_strategy=uncertainty_sampling\n",
    "        )\n",
    "        \n",
    "\n",
    "    def learn_from_db(self, mongodb_query : dict = {}, discard_old_data : bool = False) -> None:\n",
    "        '''\n",
    "        Trains the active learner from the available data in the database.\n",
    "        \n",
    "        Params\n",
    "        ------\n",
    "        mongodb_query : filters data according to the MongoDB query language \n",
    "        (https://www.mongodb.com/docs/manual/tutorial/query-documents/).\n",
    "        Defaults to no query.\n",
    "        discard_old_data : retrains the active learner on only the newly selected\n",
    "        data from the database.\n",
    "        '''\n",
    "        \n",
    "        # Filter data from the database based on the MongoDB_query parameter\n",
    "        df = pd.DataFrame(list(collection.find(mongodb_query)))\n",
    "        \n",
    "        # Train the active learner on the data from the database\n",
    "        self.X = df[self.input_args].to_numpy()\n",
    "        self.y = df[self.target].to_numpy().ravel()\n",
    "        self.learner.teach(X=self.X, y=self.y, only_new = discard_old_data)\n",
    "        \n",
    "\n",
    "    def get_process_params(self, pool_size=500) -> np.ndarray:\n",
    "        '''\n",
    "        Query the active learner for the next set of most informative\n",
    "        experiment parameters.\n",
    "        \n",
    "        Params\n",
    "        ------\n",
    "        pool_size: amount of randomly generated datapoints to evaluate\n",
    "        in the pool-based setting. The higher the number, the greater the\n",
    "        information gain; however, this comes at the cost of higher\n",
    "        computation.\n",
    "        \n",
    "        Returns\n",
    "        -------\n",
    "        A numpy array of the most informative set of process parameters \n",
    "        from the generated pool for the next experiment experiment.\n",
    "        '''\n",
    "        \n",
    "        # Generate pool of data\n",
    "        pool = np.random.randint(self.input_ranges, size=(pool_size, len(self.input_ranges)))\n",
    "        \n",
    "        # Remove elements from pool already in the training data (set difference: pool - self.X)\n",
    "        pool = pool[~((pool[:,None,:] == self.X).all(-1)).any(1)]\n",
    "        \n",
    "        # Query the active learner\n",
    "        query_index, query_parameters = self.learner.query(pool)\n",
    "        \n",
    "        return query_parameters\n",
    "    "
   ]
  },
  {
   "cell_type": "code",
   "execution_count": 5,
   "id": "3a2057e0",
   "metadata": {},
   "outputs": [],
   "source": [
    "alb = ActiveLearnerBERTHA(collection, params, [80,80,80], target)"
   ]
  },
  {
   "cell_type": "code",
   "execution_count": 6,
   "id": "72411ebe",
   "metadata": {},
   "outputs": [],
   "source": [
    "alb.learn_from_db()"
   ]
  },
  {
   "cell_type": "code",
   "execution_count": 7,
   "id": "49e90016",
   "metadata": {},
   "outputs": [
    {
     "data": {
      "text/plain": [
       "array([[28, 36, 71]])"
      ]
     },
     "execution_count": 7,
     "metadata": {},
     "output_type": "execute_result"
    }
   ],
   "source": [
    "alb.get_process_params()"
   ]
  },
  {
   "cell_type": "code",
   "execution_count": null,
   "id": "6c6ba653",
   "metadata": {},
   "outputs": [],
   "source": []
  },
  {
   "cell_type": "code",
   "execution_count": null,
   "id": "1483dca0",
   "metadata": {},
   "outputs": [],
   "source": []
  },
  {
   "cell_type": "code",
   "execution_count": null,
   "id": "7782e152",
   "metadata": {},
   "outputs": [],
   "source": []
  },
  {
   "cell_type": "markdown",
   "id": "cbc2c215",
   "metadata": {},
   "source": [
    "## Example query: filter for experiments where W_2 is activated (>0)"
   ]
  },
  {
   "cell_type": "code",
   "execution_count": 8,
   "id": "89be2fe8",
   "metadata": {},
   "outputs": [
    {
     "data": {
      "text/html": [
       "<div>\n",
       "<style scoped>\n",
       "    .dataframe tbody tr th:only-of-type {\n",
       "        vertical-align: middle;\n",
       "    }\n",
       "\n",
       "    .dataframe tbody tr th {\n",
       "        vertical-align: top;\n",
       "    }\n",
       "\n",
       "    .dataframe thead th {\n",
       "        text-align: right;\n",
       "    }\n",
       "</style>\n",
       "<table border=\"1\" class=\"dataframe\">\n",
       "  <thead>\n",
       "    <tr style=\"text-align: right;\">\n",
       "      <th></th>\n",
       "      <th>_id</th>\n",
       "      <th>Date</th>\n",
       "      <th>Campaign code</th>\n",
       "      <th>Campaign description</th>\n",
       "      <th>Material Ax1</th>\n",
       "      <th>Material Ax2</th>\n",
       "      <th>Material Ax3</th>\n",
       "      <th>Magnetron Ax1</th>\n",
       "      <th>Magnetron Ax2</th>\n",
       "      <th>Magnetron Ax3</th>\n",
       "      <th>...</th>\n",
       "      <th>Voltage_Ax1_[V] Mean</th>\n",
       "      <th>Voltage_Ax1_[V] STD</th>\n",
       "      <th>Actual_Power_Ax2_[W] Mean</th>\n",
       "      <th>Actual_Power_Ax2_[W] STD</th>\n",
       "      <th>Voltage_Ax2_[V] Mean</th>\n",
       "      <th>Voltage_Ax2_[V] STD</th>\n",
       "      <th>Actual_Power_Ax3_[W] Mean</th>\n",
       "      <th>Actual_Power_Ax3_[W] STD</th>\n",
       "      <th>Voltage_Ax3_[V] Mean</th>\n",
       "      <th>Voltage_Ax3_[V] STD</th>\n",
       "    </tr>\n",
       "  </thead>\n",
       "  <tbody>\n",
       "    <tr>\n",
       "      <th>0</th>\n",
       "      <td>{'_oid': '65cf6db238a7b0a510a578fc'}</td>\n",
       "      <td>02/16/2024</td>\n",
       "      <td>BaZrSn_001</td>\n",
       "      <td>Sputter setup with Ba, Zr and Sn for developme...</td>\n",
       "      <td>Ba</td>\n",
       "      <td>Zr</td>\n",
       "      <td>Sn</td>\n",
       "      <td>5</td>\n",
       "      <td>1</td>\n",
       "      <td>3</td>\n",
       "      <td>...</td>\n",
       "      <td>0</td>\n",
       "      <td>0</td>\n",
       "      <td>20.817</td>\n",
       "      <td>0.563</td>\n",
       "      <td>211.104</td>\n",
       "      <td>0.603</td>\n",
       "      <td>36.736</td>\n",
       "      <td>1.843</td>\n",
       "      <td>283.175</td>\n",
       "      <td>0.657</td>\n",
       "    </tr>\n",
       "    <tr>\n",
       "      <th>1</th>\n",
       "      <td>{'_oid': '65cf6de938a7b0a510a578fd'}</td>\n",
       "      <td>02/16/2024</td>\n",
       "      <td>BaZrSn_001</td>\n",
       "      <td>Sputter setup with Ba, Zr and Sn for developme...</td>\n",
       "      <td>Ba</td>\n",
       "      <td>Zr</td>\n",
       "      <td>Sn</td>\n",
       "      <td>5</td>\n",
       "      <td>1</td>\n",
       "      <td>3</td>\n",
       "      <td>...</td>\n",
       "      <td>0</td>\n",
       "      <td>0</td>\n",
       "      <td>67.924</td>\n",
       "      <td>0.211</td>\n",
       "      <td>217.777</td>\n",
       "      <td>0.111</td>\n",
       "      <td>44.213</td>\n",
       "      <td>2.470</td>\n",
       "      <td>285.515</td>\n",
       "      <td>0.419</td>\n",
       "    </tr>\n",
       "  </tbody>\n",
       "</table>\n",
       "<p>2 rows × 74 columns</p>\n",
       "</div>"
      ],
      "text/plain": [
       "                                    _id        Date Campaign code  \\\n",
       "0  {'_oid': '65cf6db238a7b0a510a578fc'}  02/16/2024    BaZrSn_001   \n",
       "1  {'_oid': '65cf6de938a7b0a510a578fd'}  02/16/2024    BaZrSn_001   \n",
       "\n",
       "                                Campaign description Material Ax1  \\\n",
       "0  Sputter setup with Ba, Zr and Sn for developme...           Ba   \n",
       "1  Sputter setup with Ba, Zr and Sn for developme...           Ba   \n",
       "\n",
       "  Material Ax2 Material Ax3  Magnetron Ax1  Magnetron Ax2  Magnetron Ax3  ...  \\\n",
       "0           Zr           Sn              5              1              3  ...   \n",
       "1           Zr           Sn              5              1              3  ...   \n",
       "\n",
       "   Voltage_Ax1_[V] Mean  Voltage_Ax1_[V] STD  Actual_Power_Ax2_[W] Mean  \\\n",
       "0                     0                    0                     20.817   \n",
       "1                     0                    0                     67.924   \n",
       "\n",
       "   Actual_Power_Ax2_[W] STD  Voltage_Ax2_[V] Mean  Voltage_Ax2_[V] STD  \\\n",
       "0                     0.563               211.104                0.603   \n",
       "1                     0.211               217.777                0.111   \n",
       "\n",
       "  Actual_Power_Ax3_[W] Mean Actual_Power_Ax3_[W] STD Voltage_Ax3_[V] Mean  \\\n",
       "0                    36.736                    1.843              283.175   \n",
       "1                    44.213                    2.470              285.515   \n",
       "\n",
       "  Voltage_Ax3_[V] STD  \n",
       "0               0.657  \n",
       "1               0.419  \n",
       "\n",
       "[2 rows x 74 columns]"
      ]
     },
     "execution_count": 8,
     "metadata": {},
     "output_type": "execute_result"
    }
   ],
   "source": [
    "pd.DataFrame(list(collection.find({'Power_Ax2_setpoint_[W]': {\"$gt\": 0}})))"
   ]
  },
  {
   "cell_type": "code",
   "execution_count": 18,
   "id": "787db4f3",
   "metadata": {},
   "outputs": [],
   "source": [
    "alb.learn_from_db({'Power_Ax2_setpoint_[W]': {\"$gt\": 0}}, discard_old_data = True)"
   ]
  },
  {
   "cell_type": "code",
   "execution_count": null,
   "id": "2f7a75e8",
   "metadata": {},
   "outputs": [],
   "source": []
  },
  {
   "cell_type": "code",
   "execution_count": null,
   "id": "3b9ef4f6",
   "metadata": {},
   "outputs": [],
   "source": []
  },
  {
   "cell_type": "markdown",
   "id": "bd573373",
   "metadata": {},
   "source": [
    "# Try BERTHA-AL on synthetic data"
   ]
  },
  {
   "cell_type": "code",
   "execution_count": 24,
   "id": "821cc68c",
   "metadata": {},
   "outputs": [],
   "source": [
    "collection = db.synthetic"
   ]
  },
  {
   "cell_type": "code",
   "execution_count": 25,
   "id": "2c6f9261",
   "metadata": {},
   "outputs": [],
   "source": [
    "testdf = pd.DataFrame(list(collection.find()))"
   ]
  },
  {
   "cell_type": "code",
   "execution_count": 26,
   "id": "7e2f1050",
   "metadata": {},
   "outputs": [
    {
     "data": {
      "text/html": [
       "<div>\n",
       "<style scoped>\n",
       "    .dataframe tbody tr th:only-of-type {\n",
       "        vertical-align: middle;\n",
       "    }\n",
       "\n",
       "    .dataframe tbody tr th {\n",
       "        vertical-align: top;\n",
       "    }\n",
       "\n",
       "    .dataframe thead th {\n",
       "        text-align: right;\n",
       "    }\n",
       "</style>\n",
       "<table border=\"1\" class=\"dataframe\">\n",
       "  <thead>\n",
       "    <tr style=\"text-align: right;\">\n",
       "      <th></th>\n",
       "      <th>_id</th>\n",
       "      <th>x</th>\n",
       "      <th>y</th>\n",
       "      <th>class</th>\n",
       "    </tr>\n",
       "  </thead>\n",
       "  <tbody>\n",
       "    <tr>\n",
       "      <th>0</th>\n",
       "      <td>65f71127c0dc1f4ed5c3ad92</td>\n",
       "      <td>425.297302</td>\n",
       "      <td>484.231998</td>\n",
       "      <td>1</td>\n",
       "    </tr>\n",
       "    <tr>\n",
       "      <th>1</th>\n",
       "      <td>65f71127c0dc1f4ed5c3ad93</td>\n",
       "      <td>485.613467</td>\n",
       "      <td>188.208158</td>\n",
       "      <td>1</td>\n",
       "    </tr>\n",
       "    <tr>\n",
       "      <th>2</th>\n",
       "      <td>65f71127c0dc1f4ed5c3ad94</td>\n",
       "      <td>416.568741</td>\n",
       "      <td>341.844643</td>\n",
       "      <td>1</td>\n",
       "    </tr>\n",
       "    <tr>\n",
       "      <th>3</th>\n",
       "      <td>65f71127c0dc1f4ed5c3ad95</td>\n",
       "      <td>430.802431</td>\n",
       "      <td>92.321342</td>\n",
       "      <td>1</td>\n",
       "    </tr>\n",
       "    <tr>\n",
       "      <th>4</th>\n",
       "      <td>65f71127c0dc1f4ed5c3ad96</td>\n",
       "      <td>454.115796</td>\n",
       "      <td>213.044412</td>\n",
       "      <td>1</td>\n",
       "    </tr>\n",
       "    <tr>\n",
       "      <th>...</th>\n",
       "      <td>...</td>\n",
       "      <td>...</td>\n",
       "      <td>...</td>\n",
       "      <td>...</td>\n",
       "    </tr>\n",
       "    <tr>\n",
       "      <th>995</th>\n",
       "      <td>65f71127c0dc1f4ed5c3b175</td>\n",
       "      <td>409.276855</td>\n",
       "      <td>304.342965</td>\n",
       "      <td>1</td>\n",
       "    </tr>\n",
       "    <tr>\n",
       "      <th>996</th>\n",
       "      <td>65f71127c0dc1f4ed5c3b176</td>\n",
       "      <td>324.098892</td>\n",
       "      <td>356.365318</td>\n",
       "      <td>1</td>\n",
       "    </tr>\n",
       "    <tr>\n",
       "      <th>997</th>\n",
       "      <td>65f71127c0dc1f4ed5c3b177</td>\n",
       "      <td>410.244711</td>\n",
       "      <td>219.213596</td>\n",
       "      <td>1</td>\n",
       "    </tr>\n",
       "    <tr>\n",
       "      <th>998</th>\n",
       "      <td>65f71127c0dc1f4ed5c3b178</td>\n",
       "      <td>322.777218</td>\n",
       "      <td>270.782272</td>\n",
       "      <td>1</td>\n",
       "    </tr>\n",
       "    <tr>\n",
       "      <th>999</th>\n",
       "      <td>65f71127c0dc1f4ed5c3b179</td>\n",
       "      <td>310.505075</td>\n",
       "      <td>172.424365</td>\n",
       "      <td>1</td>\n",
       "    </tr>\n",
       "  </tbody>\n",
       "</table>\n",
       "<p>1000 rows × 4 columns</p>\n",
       "</div>"
      ],
      "text/plain": [
       "                          _id           x           y  class\n",
       "0    65f71127c0dc1f4ed5c3ad92  425.297302  484.231998      1\n",
       "1    65f71127c0dc1f4ed5c3ad93  485.613467  188.208158      1\n",
       "2    65f71127c0dc1f4ed5c3ad94  416.568741  341.844643      1\n",
       "3    65f71127c0dc1f4ed5c3ad95  430.802431   92.321342      1\n",
       "4    65f71127c0dc1f4ed5c3ad96  454.115796  213.044412      1\n",
       "..                        ...         ...         ...    ...\n",
       "995  65f71127c0dc1f4ed5c3b175  409.276855  304.342965      1\n",
       "996  65f71127c0dc1f4ed5c3b176  324.098892  356.365318      1\n",
       "997  65f71127c0dc1f4ed5c3b177  410.244711  219.213596      1\n",
       "998  65f71127c0dc1f4ed5c3b178  322.777218  270.782272      1\n",
       "999  65f71127c0dc1f4ed5c3b179  310.505075  172.424365      1\n",
       "\n",
       "[1000 rows x 4 columns]"
      ]
     },
     "execution_count": 26,
     "metadata": {},
     "output_type": "execute_result"
    }
   ],
   "source": [
    "testdf"
   ]
  },
  {
   "cell_type": "code",
   "execution_count": 27,
   "id": "fcfecea1",
   "metadata": {},
   "outputs": [],
   "source": [
    "params = ['x', 'y']\n",
    "target = ['class']\n",
    "alb = ActiveLearnerBERTHA(collection, params, [500,500], target)"
   ]
  },
  {
   "cell_type": "code",
   "execution_count": 28,
   "id": "e5e286c3",
   "metadata": {},
   "outputs": [],
   "source": [
    "alb.learn_from_db()"
   ]
  },
  {
   "cell_type": "code",
   "execution_count": 29,
   "id": "d238c09c",
   "metadata": {},
   "outputs": [
    {
     "data": {
      "text/plain": [
       "array([[ 21, 286]])"
      ]
     },
     "execution_count": 29,
     "metadata": {},
     "output_type": "execute_result"
    }
   ],
   "source": [
    "alb.get_process_params()"
   ]
  },
  {
   "cell_type": "code",
   "execution_count": null,
   "id": "acadeb4d",
   "metadata": {},
   "outputs": [],
   "source": []
  },
  {
   "cell_type": "markdown",
   "id": "49a04a8b",
   "metadata": {},
   "source": [
    "# Misc"
   ]
  },
  {
   "cell_type": "code",
   "execution_count": 10,
   "id": "89ea40de",
   "metadata": {},
   "outputs": [],
   "source": [
    "class Test:\n",
    "    \n",
    "    def set_smth(self, arg):\n",
    "        self.arg = arg"
   ]
  },
  {
   "cell_type": "code",
   "execution_count": 11,
   "id": "5f4fd7e3",
   "metadata": {},
   "outputs": [],
   "source": [
    "t = Test()"
   ]
  },
  {
   "cell_type": "code",
   "execution_count": 12,
   "id": "71794fc1",
   "metadata": {},
   "outputs": [],
   "source": [
    "t.set_smth('hi')"
   ]
  },
  {
   "cell_type": "code",
   "execution_count": 13,
   "id": "8b8b7baf",
   "metadata": {},
   "outputs": [
    {
     "data": {
      "text/plain": [
       "'hi'"
      ]
     },
     "execution_count": 13,
     "metadata": {},
     "output_type": "execute_result"
    }
   ],
   "source": [
    "t.arg"
   ]
  },
  {
   "cell_type": "code",
   "execution_count": null,
   "id": "6baff7e1",
   "metadata": {},
   "outputs": [],
   "source": []
  },
  {
   "cell_type": "code",
   "execution_count": null,
   "id": "c307aba3",
   "metadata": {},
   "outputs": [],
   "source": []
  },
  {
   "cell_type": "code",
   "execution_count": null,
   "id": "d4466b65",
   "metadata": {},
   "outputs": [],
   "source": []
  },
  {
   "cell_type": "code",
   "execution_count": null,
   "id": "da4d0c3f",
   "metadata": {},
   "outputs": [],
   "source": []
  },
  {
   "cell_type": "markdown",
   "id": "4745d479",
   "metadata": {},
   "source": [
    "## Generate pool"
   ]
  },
  {
   "cell_type": "code",
   "execution_count": 14,
   "id": "3de95395",
   "metadata": {},
   "outputs": [
    {
     "data": {
      "text/plain": [
       "array([[   2,  118,  425],\n",
       "       [   4,   31, 1581],\n",
       "       [   0,   49, 2044],\n",
       "       [   0,   39, 1366],\n",
       "       [   1,  113,   39],\n",
       "       [   0,  107, 1405],\n",
       "       [   3,   14,  605],\n",
       "       [   1,    6, 2059],\n",
       "       [   2,   35,  818],\n",
       "       [   3,   97,  843]])"
      ]
     },
     "execution_count": 14,
     "metadata": {},
     "output_type": "execute_result"
    }
   ],
   "source": [
    "bounds = [5, 120, 2400]\n",
    "n = 10\n",
    "np.random.randint(bounds, size=(n, 3))"
   ]
  },
  {
   "cell_type": "code",
   "execution_count": null,
   "id": "dfca4a49",
   "metadata": {},
   "outputs": [],
   "source": []
  },
  {
   "cell_type": "code",
   "execution_count": null,
   "id": "452e5d8c",
   "metadata": {},
   "outputs": [],
   "source": []
  },
  {
   "cell_type": "code",
   "execution_count": 15,
   "id": "7bfa9244",
   "metadata": {},
   "outputs": [],
   "source": [
    "A = np.array([[1,4,3],[2,5,1],[7,8,9]])\n",
    "B = np.array([[1,4,3],[3,6,1],[7,8,9]])\n",
    "\n",
    "A = A[~((A[:,None,:] == B).all(-1)).any(1)]"
   ]
  },
  {
   "cell_type": "code",
   "execution_count": 16,
   "id": "a2c3c83c",
   "metadata": {},
   "outputs": [
    {
     "data": {
      "text/plain": [
       "numpy.ndarray"
      ]
     },
     "execution_count": 16,
     "metadata": {},
     "output_type": "execute_result"
    }
   ],
   "source": [
    "type(A)"
   ]
  },
  {
   "cell_type": "code",
   "execution_count": null,
   "id": "16336677",
   "metadata": {},
   "outputs": [],
   "source": []
  },
  {
   "cell_type": "code",
   "execution_count": null,
   "id": "78190459",
   "metadata": {},
   "outputs": [],
   "source": []
  },
  {
   "cell_type": "code",
   "execution_count": null,
   "id": "21ae5cb5",
   "metadata": {},
   "outputs": [],
   "source": []
  }
 ],
 "metadata": {
  "kernelspec": {
   "display_name": "Python 3 (ipykernel)",
   "language": "python",
   "name": "python3"
  },
  "language_info": {
   "codemirror_mode": {
    "name": "ipython",
    "version": 3
   },
   "file_extension": ".py",
   "mimetype": "text/x-python",
   "name": "python",
   "nbconvert_exporter": "python",
   "pygments_lexer": "ipython3",
   "version": "3.11.4"
  }
 },
 "nbformat": 4,
 "nbformat_minor": 5
}
