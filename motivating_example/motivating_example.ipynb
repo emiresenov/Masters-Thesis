{
 "cells": [
  {
   "cell_type": "code",
   "execution_count": 1,
   "id": "cbd99856",
   "metadata": {},
   "outputs": [],
   "source": [
    "import numpy as np\n",
    "import pandas as pd\n",
    "import seaborn as sns\n",
    "import matplotlib.pyplot as plt"
   ]
  },
  {
   "cell_type": "markdown",
   "id": "09a5affe",
   "metadata": {},
   "source": [
    "# Read example data"
   ]
  },
  {
   "cell_type": "code",
   "execution_count": 2,
   "id": "b81e9a9a",
   "metadata": {},
   "outputs": [
    {
     "data": {
      "text/html": [
       "<div>\n",
       "<style scoped>\n",
       "    .dataframe tbody tr th:only-of-type {\n",
       "        vertical-align: middle;\n",
       "    }\n",
       "\n",
       "    .dataframe tbody tr th {\n",
       "        vertical-align: top;\n",
       "    }\n",
       "\n",
       "    .dataframe thead th {\n",
       "        text-align: right;\n",
       "    }\n",
       "</style>\n",
       "<table border=\"1\" class=\"dataframe\">\n",
       "  <thead>\n",
       "    <tr style=\"text-align: right;\">\n",
       "      <th></th>\n",
       "      <th>Time Stamp</th>\n",
       "      <th>Power Supply 1 Power</th>\n",
       "      <th>Voltage, V</th>\n",
       "      <th>Power Output(x10), W</th>\n",
       "    </tr>\n",
       "  </thead>\n",
       "  <tbody>\n",
       "    <tr>\n",
       "      <th>0</th>\n",
       "      <td>Jan-24-2024 12:37:06.564 PM</td>\n",
       "      <td>29.574403</td>\n",
       "      <td>243.952515</td>\n",
       "      <td>295.74403</td>\n",
       "    </tr>\n",
       "    <tr>\n",
       "      <th>1</th>\n",
       "      <td>Jan-24-2024 12:37:06.658 PM</td>\n",
       "      <td>29.574403</td>\n",
       "      <td>243.952515</td>\n",
       "      <td>295.74403</td>\n",
       "    </tr>\n",
       "    <tr>\n",
       "      <th>2</th>\n",
       "      <td>Jan-24-2024 12:37:06.767 PM</td>\n",
       "      <td>29.574403</td>\n",
       "      <td>243.952515</td>\n",
       "      <td>295.74403</td>\n",
       "    </tr>\n",
       "    <tr>\n",
       "      <th>3</th>\n",
       "      <td>Jan-24-2024 12:37:06.877 PM</td>\n",
       "      <td>29.574403</td>\n",
       "      <td>243.952515</td>\n",
       "      <td>295.74403</td>\n",
       "    </tr>\n",
       "    <tr>\n",
       "      <th>4</th>\n",
       "      <td>Jan-24-2024 12:37:06.982 PM</td>\n",
       "      <td>29.574403</td>\n",
       "      <td>243.952515</td>\n",
       "      <td>295.74403</td>\n",
       "    </tr>\n",
       "  </tbody>\n",
       "</table>\n",
       "</div>"
      ],
      "text/plain": [
       "                    Time Stamp  Power Supply 1 Power  Voltage, V  \\\n",
       "0  Jan-24-2024 12:37:06.564 PM             29.574403  243.952515   \n",
       "1  Jan-24-2024 12:37:06.658 PM             29.574403  243.952515   \n",
       "2  Jan-24-2024 12:37:06.767 PM             29.574403  243.952515   \n",
       "3  Jan-24-2024 12:37:06.877 PM             29.574403  243.952515   \n",
       "4  Jan-24-2024 12:37:06.982 PM             29.574403  243.952515   \n",
       "\n",
       "   Power Output(x10), W  \n",
       "0             295.74403  \n",
       "1             295.74403  \n",
       "2             295.74403  \n",
       "3             295.74403  \n",
       "4             295.74403  "
      ]
     },
     "execution_count": 2,
     "metadata": {},
     "output_type": "execute_result"
    }
   ],
   "source": [
    "df = pd.read_csv('sputtering_example_data.csv', sep=\";\", decimal=',')\n",
    "df.head()"
   ]
  },
  {
   "cell_type": "markdown",
   "id": "0865b9e8",
   "metadata": {},
   "source": [
    "## Data processing"
   ]
  },
  {
   "cell_type": "code",
   "execution_count": 3,
   "id": "9d714370",
   "metadata": {},
   "outputs": [
    {
     "data": {
      "text/html": [
       "<div>\n",
       "<style scoped>\n",
       "    .dataframe tbody tr th:only-of-type {\n",
       "        vertical-align: middle;\n",
       "    }\n",
       "\n",
       "    .dataframe tbody tr th {\n",
       "        vertical-align: top;\n",
       "    }\n",
       "\n",
       "    .dataframe thead th {\n",
       "        text-align: right;\n",
       "    }\n",
       "</style>\n",
       "<table border=\"1\" class=\"dataframe\">\n",
       "  <thead>\n",
       "    <tr style=\"text-align: right;\">\n",
       "      <th></th>\n",
       "      <th>Voltage, V</th>\n",
       "      <th>Power Output(x10), W</th>\n",
       "    </tr>\n",
       "  </thead>\n",
       "  <tbody>\n",
       "    <tr>\n",
       "      <th>0</th>\n",
       "      <td>243.952515</td>\n",
       "      <td>295.74403</td>\n",
       "    </tr>\n",
       "    <tr>\n",
       "      <th>1</th>\n",
       "      <td>243.952515</td>\n",
       "      <td>295.74403</td>\n",
       "    </tr>\n",
       "    <tr>\n",
       "      <th>2</th>\n",
       "      <td>243.952515</td>\n",
       "      <td>295.74403</td>\n",
       "    </tr>\n",
       "    <tr>\n",
       "      <th>3</th>\n",
       "      <td>243.952515</td>\n",
       "      <td>295.74403</td>\n",
       "    </tr>\n",
       "    <tr>\n",
       "      <th>4</th>\n",
       "      <td>243.952515</td>\n",
       "      <td>295.74403</td>\n",
       "    </tr>\n",
       "  </tbody>\n",
       "</table>\n",
       "</div>"
      ],
      "text/plain": [
       "   Voltage, V  Power Output(x10), W\n",
       "0  243.952515             295.74403\n",
       "1  243.952515             295.74403\n",
       "2  243.952515             295.74403\n",
       "3  243.952515             295.74403\n",
       "4  243.952515             295.74403"
      ]
     },
     "execution_count": 3,
     "metadata": {},
     "output_type": "execute_result"
    }
   ],
   "source": [
    "df = df.drop(columns=['Power Supply 1 Power', 'Time Stamp'])\n",
    "df.head()"
   ]
  },
  {
   "cell_type": "code",
   "execution_count": 4,
   "id": "e366e6cd",
   "metadata": {},
   "outputs": [],
   "source": [
    "# Add pressure data not included in the file\n",
    "\n",
    "seq = [5,10,10,7,5,3,2,10]\n",
    "mult = 10\n",
    "p1 = np.empty(5500) # 0 - 5500\n",
    "p1.fill(seq[0]*mult)\n",
    "p2 = np.empty(3100) # 5500 - 8600\n",
    "p2.fill(seq[1]*mult)\n",
    "p3 = np.empty(600) # 8600 - 9200\n",
    "p3.fill(seq[2]*mult)\n",
    "p4 = np.empty(550) # 9200 - 9750\n",
    "p4.fill(seq[3]*mult)\n",
    "p5 = np.empty(450) # 9750 - 10200\n",
    "p5.fill(seq[4]*mult)\n",
    "p6 = np.empty(800) # 10200 – 11000\n",
    "p6.fill(seq[5]*mult)\n",
    "p7 = np.empty(250) # 11000 – 11250\n",
    "p7.fill(seq[6]*mult)\n",
    "p8 = np.empty(750) # 11250 – 12000\n",
    "p8.fill(seq[7]*mult)\n",
    "p = np.concatenate((p1,p2,p3,p4,p5,p6,p7,p8))"
   ]
  },
  {
   "cell_type": "code",
   "execution_count": 5,
   "id": "ffa84ecc",
   "metadata": {},
   "outputs": [
    {
     "data": {
      "text/html": [
       "<div>\n",
       "<style scoped>\n",
       "    .dataframe tbody tr th:only-of-type {\n",
       "        vertical-align: middle;\n",
       "    }\n",
       "\n",
       "    .dataframe tbody tr th {\n",
       "        vertical-align: top;\n",
       "    }\n",
       "\n",
       "    .dataframe thead th {\n",
       "        text-align: right;\n",
       "    }\n",
       "</style>\n",
       "<table border=\"1\" class=\"dataframe\">\n",
       "  <thead>\n",
       "    <tr style=\"text-align: right;\">\n",
       "      <th></th>\n",
       "      <th>Voltage, V</th>\n",
       "      <th>Power Output(x10), W</th>\n",
       "      <th>Pressure</th>\n",
       "    </tr>\n",
       "  </thead>\n",
       "  <tbody>\n",
       "    <tr>\n",
       "      <th>0</th>\n",
       "      <td>243.952515</td>\n",
       "      <td>295.74403</td>\n",
       "      <td>50.0</td>\n",
       "    </tr>\n",
       "    <tr>\n",
       "      <th>1</th>\n",
       "      <td>243.952515</td>\n",
       "      <td>295.74403</td>\n",
       "      <td>50.0</td>\n",
       "    </tr>\n",
       "    <tr>\n",
       "      <th>2</th>\n",
       "      <td>243.952515</td>\n",
       "      <td>295.74403</td>\n",
       "      <td>50.0</td>\n",
       "    </tr>\n",
       "    <tr>\n",
       "      <th>3</th>\n",
       "      <td>243.952515</td>\n",
       "      <td>295.74403</td>\n",
       "      <td>50.0</td>\n",
       "    </tr>\n",
       "    <tr>\n",
       "      <th>4</th>\n",
       "      <td>243.952515</td>\n",
       "      <td>295.74403</td>\n",
       "      <td>50.0</td>\n",
       "    </tr>\n",
       "  </tbody>\n",
       "</table>\n",
       "</div>"
      ],
      "text/plain": [
       "   Voltage, V  Power Output(x10), W  Pressure\n",
       "0  243.952515             295.74403      50.0\n",
       "1  243.952515             295.74403      50.0\n",
       "2  243.952515             295.74403      50.0\n",
       "3  243.952515             295.74403      50.0\n",
       "4  243.952515             295.74403      50.0"
      ]
     },
     "execution_count": 5,
     "metadata": {},
     "output_type": "execute_result"
    }
   ],
   "source": [
    "df['Pressure'] = pd.Series(p)\n",
    "df.head()"
   ]
  },
  {
   "cell_type": "code",
   "execution_count": 6,
   "id": "02136e8d",
   "metadata": {},
   "outputs": [
    {
     "data": {
      "text/html": [
       "<div>\n",
       "<style scoped>\n",
       "    .dataframe tbody tr th:only-of-type {\n",
       "        vertical-align: middle;\n",
       "    }\n",
       "\n",
       "    .dataframe tbody tr th {\n",
       "        vertical-align: top;\n",
       "    }\n",
       "\n",
       "    .dataframe thead th {\n",
       "        text-align: right;\n",
       "    }\n",
       "</style>\n",
       "<table border=\"1\" class=\"dataframe\">\n",
       "  <thead>\n",
       "    <tr style=\"text-align: right;\">\n",
       "      <th></th>\n",
       "      <th>Power output (W) (x10)</th>\n",
       "      <th>Voltage (V)</th>\n",
       "      <th>Pressure (mTorr) (x10)</th>\n",
       "    </tr>\n",
       "  </thead>\n",
       "  <tbody>\n",
       "    <tr>\n",
       "      <th>0</th>\n",
       "      <td>295.74403</td>\n",
       "      <td>243.952515</td>\n",
       "      <td>50.0</td>\n",
       "    </tr>\n",
       "    <tr>\n",
       "      <th>1</th>\n",
       "      <td>295.74403</td>\n",
       "      <td>243.952515</td>\n",
       "      <td>50.0</td>\n",
       "    </tr>\n",
       "    <tr>\n",
       "      <th>2</th>\n",
       "      <td>295.74403</td>\n",
       "      <td>243.952515</td>\n",
       "      <td>50.0</td>\n",
       "    </tr>\n",
       "    <tr>\n",
       "      <th>3</th>\n",
       "      <td>295.74403</td>\n",
       "      <td>243.952515</td>\n",
       "      <td>50.0</td>\n",
       "    </tr>\n",
       "    <tr>\n",
       "      <th>4</th>\n",
       "      <td>295.74403</td>\n",
       "      <td>243.952515</td>\n",
       "      <td>50.0</td>\n",
       "    </tr>\n",
       "  </tbody>\n",
       "</table>\n",
       "</div>"
      ],
      "text/plain": [
       "   Power output (W) (x10)  Voltage (V)  Pressure (mTorr) (x10)\n",
       "0               295.74403   243.952515                    50.0\n",
       "1               295.74403   243.952515                    50.0\n",
       "2               295.74403   243.952515                    50.0\n",
       "3               295.74403   243.952515                    50.0\n",
       "4               295.74403   243.952515                    50.0"
      ]
     },
     "execution_count": 6,
     "metadata": {},
     "output_type": "execute_result"
    }
   ],
   "source": [
    "# Rename columns for plot labels\n",
    "\n",
    "df = df.rename(\n",
    "    columns={\n",
    "        \"Voltage, V\": \"Voltage (V)\", \n",
    "        \"Power Output(x10), W\": \"Power output (W) (x10)\", \n",
    "        \"Pressure\": \"Pressure (mTorr) (x10)\"\n",
    "    })\n",
    "df = df[[\"Power output (W) (x10)\", \"Voltage (V)\", \"Pressure (mTorr) (x10)\"]]\n",
    "df.head()"
   ]
  },
  {
   "cell_type": "markdown",
   "id": "e579d369",
   "metadata": {},
   "source": [
    "# Plot data"
   ]
  },
  {
   "cell_type": "code",
   "execution_count": 7,
   "id": "8ac3cca7",
   "metadata": {},
   "outputs": [],
   "source": [
    "plt.rcParams['figure.figsize'] = [10, 6]"
   ]
  },
  {
   "cell_type": "code",
   "execution_count": 8,
   "id": "6a4473ec",
   "metadata": {},
   "outputs": [
    {
     "data": {
      "image/png": "[encoded data removed]",
      "text/plain": [
       "<Figure size 1000x600 with 1 Axes>"
      ]
     },
     "metadata": {},
     "output_type": "display_data"
    }
   ],
   "source": [
    "df.plot()\n",
    "plt.axvspan(0, 5500, facecolor='orange', alpha=0.15)\n",
    "plt.axvspan(5500, 8600, facecolor='yellow', alpha=0.15)\n",
    "plt.axvspan(8600, 12000, facecolor='sandybrown', alpha=0.15)\n",
    "plt.xlabel('Time (0.1s)', fontsize=12.5)\n",
    "plt.grid()\n",
    "plt.title('Target power and voltage as a function of process settings').set_size(15)\n",
    "plt.legend(loc='upper left', borderpad=1.5, labelspacing=1.5, fontsize=\"12.5\", fancybox=True, shadow=True)\n",
    "plt.show()"
   ]
  },
  {
   "cell_type": "code",
   "execution_count": null,
   "id": "3351facf",
   "metadata": {},
   "outputs": [],
   "source": []
  }
 ],
 "metadata": {
  "kernelspec": {
   "display_name": "Python 3 (ipykernel)",
   "language": "python",
   "name": "python3"
  },
  "language_info": {
   "codemirror_mode": {
    "name": "ipython",
    "version": 3
   },
   "file_extension": ".py",
   "mimetype": "text/x-python",
   "name": "python",
   "nbconvert_exporter": "python",
   "pygments_lexer": "ipython3",
   "version": "3.11.4"
  }
 },
 "nbformat": 4,
 "nbformat_minor": 5
}
