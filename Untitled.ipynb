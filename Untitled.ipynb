{
 "cells": [
  {
   "cell_type": "code",
   "execution_count": 1,
   "id": "9da0ce0e",
   "metadata": {},
   "outputs": [],
   "source": [
    "import numpy as np\n",
    "import matplotlib.pyplot as plt\n",
    "import pandas as pd\n",
    "from modAL.models import ActiveLearner\n",
    "from modAL.uncertainty import uncertainty_sampling\n",
    "from modAL.uncertainty import entropy_sampling\n",
    "from sklearn.ensemble import RandomForestClassifier, AdaBoostClassifier\n",
    "from sklearn.model_selection import train_test_split\n",
    "from sklearn.metrics import accuracy_score\n",
    "from sklearn.gaussian_process import GaussianProcessClassifier\n",
    "from sklearn.naive_bayes import BernoulliNB"
   ]
  },
  {
   "cell_type": "code",
   "execution_count": 2,
   "id": "26b8a010",
   "metadata": {},
   "outputs": [],
   "source": [
    "from modAL.models import BayesianOptimizer\n",
    "from modAL.acquisition import max_EI\n",
    "from sklearn.gaussian_process import GaussianProcessRegressor\n",
    "from sklearn.gaussian_process.kernels import Matern"
   ]
  },
  {
   "cell_type": "code",
   "execution_count": 3,
   "id": "e2c1b481",
   "metadata": {},
   "outputs": [],
   "source": [
    "xs = np.random.uniform(low=0.0, high=500.0, size=1000)\n",
    "ys = np.random.uniform(low=0.0, high=500.0, size=1000)"
   ]
  },
  {
   "cell_type": "code",
   "execution_count": 4,
   "id": "2b792fde",
   "metadata": {},
   "outputs": [],
   "source": [
    "f1 = lambda x : 10000 / x\n",
    "df1 = pd.DataFrame({'x' : xs, 'y' : ys})\n",
    "df1['class'] = np.where(df1['y'] > f1(df1['x']), 1, 0)\n",
    "\n",
    "f2 = lambda x : 200 * np.sin(0.05*x) + 250\n",
    "df2 = pd.DataFrame({'x' : xs, 'y' : ys})\n",
    "df2['class'] = np.where(df2['y'] > f2(df2['x']), 1, 0)\n",
    "\n",
    "f3 = lambda x : np.power(x - 250, 2)/150 + 20\n",
    "df3 = pd.DataFrame({'x' : xs, 'y' : ys})\n",
    "df3['class'] = np.where(df3['y'] > f3(df3['x']), 1, 0)\n",
    "\n",
    "f4 = lambda x, y: np.power(x - 250, 2) + np.power(y - 250, 2) <= np.power(105, 2)\n",
    "df4 = pd.DataFrame({'x' : xs, 'y' : ys})\n",
    "df4['class'] = np.where(f4(df4['x'], df4['y']), 1, 0)\n",
    "\n",
    "datasets = [df1, df2, df3, df4]"
   ]
  },
  {
   "cell_type": "code",
   "execution_count": 5,
   "id": "bddb95a7",
   "metadata": {},
   "outputs": [],
   "source": [
    "def benchmark(learner, X_train, X_test, y_train, y_test, n_queries=100):\n",
    "    \n",
    "    scores = []\n",
    "\n",
    "    for index in range(n_queries):\n",
    "\n",
    "        query_index, query_instance = learner.query(X_train)\n",
    "\n",
    "        # Teach our ActiveLearner model the record it has requested.\n",
    "        X, y = X_train[query_index].reshape(1, -1), y_train[query_index].reshape(1, )\n",
    "        learner.teach(X=X, y=y)\n",
    "\n",
    "        # Remove the queried instance from the unlabeled pool.\n",
    "        X_train, y_train = np.delete(X_train, query_index, axis=0), np.delete(y_train, query_index)\n",
    "\n",
    "        # Calculate and report our model's accuracy.\n",
    "        model_accuracy = learner.score(X_test, y_test)\n",
    "        \n",
    "        scores.append(model_accuracy)\n",
    "        \n",
    "    return scores"
   ]
  },
  {
   "cell_type": "code",
   "execution_count": 6,
   "id": "94040ec5",
   "metadata": {},
   "outputs": [],
   "source": [
    "uncertainty_scores = []\n",
    "random_scores = []\n",
    "entropy_scores = []\n",
    "\n",
    "for df in datasets:\n",
    "    \n",
    "    X = df[['x', 'y']].to_numpy()\n",
    "    y = df[['class']].to_numpy()\n",
    "    \n",
    "    X_train, X_test, y_train, y_test = train_test_split(X, y)\n",
    "\n",
    "    uncertainty_learner = ActiveLearner(\n",
    "        estimator=BernoulliNB(alpha=1.0, binarize=0.0, class_prior=None, fit_prior=True),\n",
    "        query_strategy=uncertainty_sampling\n",
    "    )\n",
    "    \n",
    "\n",
    "    u_score = benchmark(uncertainty_learner, X_train, X_test, y_train, y_test)\n",
    "    \n",
    "    uncertainty_scores.append(u_score)"
   ]
  },
  {
   "cell_type": "code",
   "execution_count": 7,
   "id": "2f2c47de",
   "metadata": {},
   "outputs": [],
   "source": [
    "plt.rcParams[\"figure.figsize\"] = (7.5,5.5)"
   ]
  },
  {
   "cell_type": "code",
   "execution_count": 8,
   "id": "d463dce0",
   "metadata": {},
   "outputs": [
    {
     "data": {
      "image/png": "[encoded data removed]",
      "text/plain": [
       "<Figure size 750x550 with 4 Axes>"
      ]
     },
     "metadata": {},
     "output_type": "display_data"
    }
   ],
   "source": [
    "fig, axs = plt.subplots(2, 2)\n",
    "\n",
    "xs = np.arange(1, 101)\n",
    "\n",
    "axs[0,0].plot(xs, uncertainty_scores[0], label='Uncertainty')\n",
    "\n",
    "\n",
    "for ax in axs.flat:\n",
    "    ax.set(xlabel='Iteration', ylabel='Test error')\n",
    "\n",
    "fig.tight_layout()\n",
    "\n",
    "\n",
    "\n",
    "plt.show()"
   ]
  },
  {
   "cell_type": "code",
   "execution_count": 9,
   "id": "09ffe0e1",
   "metadata": {},
   "outputs": [
    {
     "data": {
      "text/plain": [
       "[0.864,\n",
       " 0.136,\n",
       " 0.864,\n",
       " 0.136,\n",
       " 0.864,\n",
       " 0.864,\n",
       " 0.864,\n",
       " 0.864,\n",
       " 0.864,\n",
       " 0.864,\n",
       " 0.864,\n",
       " 0.864,\n",
       " 0.864,\n",
       " 0.864,\n",
       " 0.864,\n",
       " 0.864,\n",
       " 0.864,\n",
       " 0.864,\n",
       " 0.864,\n",
       " 0.864,\n",
       " 0.864,\n",
       " 0.864,\n",
       " 0.864,\n",
       " 0.864,\n",
       " 0.864,\n",
       " 0.864,\n",
       " 0.864,\n",
       " 0.864,\n",
       " 0.864,\n",
       " 0.864,\n",
       " 0.864,\n",
       " 0.864,\n",
       " 0.864,\n",
       " 0.864,\n",
       " 0.864,\n",
       " 0.864,\n",
       " 0.864,\n",
       " 0.864,\n",
       " 0.864,\n",
       " 0.864,\n",
       " 0.864,\n",
       " 0.864,\n",
       " 0.864,\n",
       " 0.864,\n",
       " 0.864,\n",
       " 0.864,\n",
       " 0.864,\n",
       " 0.864,\n",
       " 0.864,\n",
       " 0.864,\n",
       " 0.864,\n",
       " 0.864,\n",
       " 0.864,\n",
       " 0.864,\n",
       " 0.864,\n",
       " 0.864,\n",
       " 0.864,\n",
       " 0.864,\n",
       " 0.864,\n",
       " 0.864,\n",
       " 0.864,\n",
       " 0.864,\n",
       " 0.864,\n",
       " 0.864,\n",
       " 0.864,\n",
       " 0.864,\n",
       " 0.864,\n",
       " 0.864,\n",
       " 0.864,\n",
       " 0.864,\n",
       " 0.864,\n",
       " 0.864,\n",
       " 0.864,\n",
       " 0.864,\n",
       " 0.864,\n",
       " 0.864,\n",
       " 0.864,\n",
       " 0.864,\n",
       " 0.864,\n",
       " 0.864,\n",
       " 0.864,\n",
       " 0.864,\n",
       " 0.864,\n",
       " 0.864,\n",
       " 0.864,\n",
       " 0.864,\n",
       " 0.864,\n",
       " 0.864,\n",
       " 0.864,\n",
       " 0.864,\n",
       " 0.864,\n",
       " 0.864,\n",
       " 0.864,\n",
       " 0.864,\n",
       " 0.864,\n",
       " 0.864,\n",
       " 0.864,\n",
       " 0.864,\n",
       " 0.864,\n",
       " 0.864]"
      ]
     },
     "execution_count": 9,
     "metadata": {},
     "output_type": "execute_result"
    }
   ],
   "source": [
    "uncertainty_scores[0]"
   ]
  },
  {
   "cell_type": "code",
   "execution_count": null,
   "id": "b1df8691",
   "metadata": {},
   "outputs": [],
   "source": []
  },
  {
   "cell_type": "code",
   "execution_count": null,
   "id": "ca3f0af9",
   "metadata": {},
   "outputs": [],
   "source": []
  },
  {
   "cell_type": "code",
   "execution_count": null,
   "id": "a9735e3c",
   "metadata": {},
   "outputs": [],
   "source": []
  },
  {
   "cell_type": "code",
   "execution_count": null,
   "id": "9f7c2165",
   "metadata": {},
   "outputs": [],
   "source": []
  }
 ],
 "metadata": {
  "kernelspec": {
   "display_name": "Python 3 (ipykernel)",
   "language": "python",
   "name": "python3"
  },
  "language_info": {
   "codemirror_mode": {
    "name": "ipython",
    "version": 3
   },
   "file_extension": ".py",
   "mimetype": "text/x-python",
   "name": "python",
   "nbconvert_exporter": "python",
   "pygments_lexer": "ipython3",
   "version": "3.11.4"
  }
 },
 "nbformat": 4,
 "nbformat_minor": 5
}
