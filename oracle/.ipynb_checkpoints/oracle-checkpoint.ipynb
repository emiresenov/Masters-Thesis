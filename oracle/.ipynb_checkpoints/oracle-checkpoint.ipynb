{
 "cells": [
  {
   "cell_type": "code",
   "execution_count": 1,
   "id": "c6ac4446",
   "metadata": {},
   "outputs": [],
   "source": [
    "import pandas as pd\n",
    "import numpy as np\n",
    "import matplotlib.pyplot as plt\n",
    "import json"
   ]
  },
  {
   "cell_type": "markdown",
   "id": "20f9aa61",
   "metadata": {},
   "source": [
    "# Load JSON"
   ]
  },
  {
   "cell_type": "code",
   "execution_count": 2,
   "id": "963f0c81",
   "metadata": {},
   "outputs": [],
   "source": [
    "f = open('data.json')\n",
    "data = json.load(f)"
   ]
  },
  {
   "cell_type": "code",
   "execution_count": 3,
   "id": "8f26c6b4",
   "metadata": {},
   "outputs": [
    {
     "data": {
      "text/html": [
       "<div>\n",
       "<style scoped>\n",
       "    .dataframe tbody tr th:only-of-type {\n",
       "        vertical-align: middle;\n",
       "    }\n",
       "\n",
       "    .dataframe tbody tr th {\n",
       "        vertical-align: top;\n",
       "    }\n",
       "\n",
       "    .dataframe thead th {\n",
       "        text-align: right;\n",
       "    }\n",
       "</style>\n",
       "<table border=\"1\" class=\"dataframe\">\n",
       "  <thead>\n",
       "    <tr style=\"text-align: right;\">\n",
       "      <th></th>\n",
       "      <th>Date</th>\n",
       "      <th>Campaign code</th>\n",
       "      <th>Campaign description</th>\n",
       "      <th>Material Ax1</th>\n",
       "      <th>Material Ax2</th>\n",
       "      <th>Material Ax3</th>\n",
       "      <th>Magnetron Ax1</th>\n",
       "      <th>Magnetron Ax2</th>\n",
       "      <th>Magnetron Ax3</th>\n",
       "      <th>Power Supply Ax1</th>\n",
       "      <th>...</th>\n",
       "      <th>Voltage_Ax1_[V] STD</th>\n",
       "      <th>Actual_Power_Ax2_[W] Mean</th>\n",
       "      <th>Actual_Power_Ax2_[W] STD</th>\n",
       "      <th>Voltage_Ax2_[V] Mean</th>\n",
       "      <th>Voltage_Ax2_[V] STD</th>\n",
       "      <th>Actual_Power_Ax3_[W] Mean</th>\n",
       "      <th>Actual_Power_Ax3_[W] STD</th>\n",
       "      <th>Voltage_Ax3_[V] Mean</th>\n",
       "      <th>Voltage_Ax3_[V] STD</th>\n",
       "      <th>_id.$oid</th>\n",
       "    </tr>\n",
       "  </thead>\n",
       "  <tbody>\n",
       "    <tr>\n",
       "      <th>0</th>\n",
       "      <td>02/16/2024</td>\n",
       "      <td>BaZrSn_001</td>\n",
       "      <td>Sputter setup with Ba, Zr and Sn for developme...</td>\n",
       "      <td>Ba</td>\n",
       "      <td>Zr</td>\n",
       "      <td>Sn</td>\n",
       "      <td>5</td>\n",
       "      <td>1</td>\n",
       "      <td>3</td>\n",
       "      <td>5</td>\n",
       "      <td>...</td>\n",
       "      <td>0</td>\n",
       "      <td>0</td>\n",
       "      <td>0</td>\n",
       "      <td>0.455</td>\n",
       "      <td>0.107</td>\n",
       "      <td>30.848</td>\n",
       "      <td>1.018</td>\n",
       "      <td>284.046</td>\n",
       "      <td>0.908</td>\n",
       "      <td>65cf64c2cb844759ce4fb722</td>\n",
       "    </tr>\n",
       "  </tbody>\n",
       "</table>\n",
       "<p>1 rows × 74 columns</p>\n",
       "</div>"
      ],
      "text/plain": [
       "         Date Campaign code  \\\n",
       "0  02/16/2024    BaZrSn_001   \n",
       "\n",
       "                                Campaign description Material Ax1  \\\n",
       "0  Sputter setup with Ba, Zr and Sn for developme...           Ba   \n",
       "\n",
       "  Material Ax2 Material Ax3  Magnetron Ax1  Magnetron Ax2  Magnetron Ax3  \\\n",
       "0           Zr           Sn              5              1              3   \n",
       "\n",
       "   Power Supply Ax1  ...  Voltage_Ax1_[V] STD  Actual_Power_Ax2_[W] Mean  \\\n",
       "0                 5  ...                    0                          0   \n",
       "\n",
       "   Actual_Power_Ax2_[W] STD  Voltage_Ax2_[V] Mean  Voltage_Ax2_[V] STD  \\\n",
       "0                         0                 0.455                0.107   \n",
       "\n",
       "  Actual_Power_Ax3_[W] Mean Actual_Power_Ax3_[W] STD Voltage_Ax3_[V] Mean  \\\n",
       "0                    30.848                    1.018              284.046   \n",
       "\n",
       "  Voltage_Ax3_[V] STD                  _id.$oid  \n",
       "0               0.908  65cf64c2cb844759ce4fb722  \n",
       "\n",
       "[1 rows x 74 columns]"
      ]
     },
     "execution_count": 3,
     "metadata": {},
     "output_type": "execute_result"
    }
   ],
   "source": [
    "check_df = pd.json_normalize(data[1]) \n",
    "check_df.head()"
   ]
  },
  {
   "cell_type": "code",
   "execution_count": 4,
   "id": "c5940f35",
   "metadata": {},
   "outputs": [
    {
     "data": {
      "text/html": [
       "<div>\n",
       "<style scoped>\n",
       "    .dataframe tbody tr th:only-of-type {\n",
       "        vertical-align: middle;\n",
       "    }\n",
       "\n",
       "    .dataframe tbody tr th {\n",
       "        vertical-align: top;\n",
       "    }\n",
       "\n",
       "    .dataframe thead th {\n",
       "        text-align: right;\n",
       "    }\n",
       "</style>\n",
       "<table border=\"1\" class=\"dataframe\">\n",
       "  <thead>\n",
       "    <tr style=\"text-align: right;\">\n",
       "      <th></th>\n",
       "      <th>Voltage_Ax1_[V]</th>\n",
       "      <th>Voltage_Ax2_[V]</th>\n",
       "      <th>Voltage_Ax3_[V]</th>\n",
       "    </tr>\n",
       "  </thead>\n",
       "  <tbody>\n",
       "    <tr>\n",
       "      <th>0</th>\n",
       "      <td>0</td>\n",
       "      <td>0.429</td>\n",
       "      <td>287.865</td>\n",
       "    </tr>\n",
       "    <tr>\n",
       "      <th>1</th>\n",
       "      <td>0</td>\n",
       "      <td>0.429</td>\n",
       "      <td>287.865</td>\n",
       "    </tr>\n",
       "    <tr>\n",
       "      <th>2</th>\n",
       "      <td>0</td>\n",
       "      <td>0.429</td>\n",
       "      <td>287.865</td>\n",
       "    </tr>\n",
       "    <tr>\n",
       "      <th>3</th>\n",
       "      <td>0</td>\n",
       "      <td>0.429</td>\n",
       "      <td>287.865</td>\n",
       "    </tr>\n",
       "    <tr>\n",
       "      <th>4</th>\n",
       "      <td>0</td>\n",
       "      <td>0.429</td>\n",
       "      <td>287.865</td>\n",
       "    </tr>\n",
       "  </tbody>\n",
       "</table>\n",
       "</div>"
      ],
      "text/plain": [
       "   Voltage_Ax1_[V]  Voltage_Ax2_[V]  Voltage_Ax3_[V]\n",
       "0                0            0.429          287.865\n",
       "1                0            0.429          287.865\n",
       "2                0            0.429          287.865\n",
       "3                0            0.429          287.865\n",
       "4                0            0.429          287.865"
      ]
     },
     "execution_count": 4,
     "metadata": {},
     "output_type": "execute_result"
    }
   ],
   "source": [
    "\n",
    "ddf = pd.DataFrame({\n",
    "    'Voltage_Ax1_[V]': check_df['Voltage_Ax1_[V]'].values[0],\n",
    "    'Voltage_Ax2_[V]': check_df['Voltage_Ax2_[V]'].values[0],\n",
    "    'Voltage_Ax3_[V]': check_df['Voltage_Ax3_[V]'].values[0]\n",
    "})\n",
    "ddf.head()"
   ]
  },
  {
   "cell_type": "markdown",
   "id": "0a4005c4",
   "metadata": {},
   "source": [
    "# Define parameters"
   ]
  },
  {
   "cell_type": "code",
   "execution_count": 5,
   "id": "df998b09",
   "metadata": {},
   "outputs": [],
   "source": [
    "t = 0.5\n",
    "t_d = 0.3\n",
    "sigma_t = 1\n",
    "n_splits=30\n",
    "\n",
    "#p1 = 'Voltage_Ax1_[V]'\n",
    "#p2 = 'Voltage_Ax2_[V]'\n",
    "p3 = 'Voltage_Ax3_[V]'\n",
    "\n",
    "#params = [p1,p2,p3]\n",
    "params = [p3]"
   ]
  },
  {
   "cell_type": "code",
   "execution_count": 6,
   "id": "0cea5630",
   "metadata": {},
   "outputs": [
    {
     "name": "stdout",
     "output_type": "stream",
     "text": [
      "Experiment 1: Length 94, n_t = 47, classified as steady at iteration 15\n",
      "Experiment 2: Length 94, n_t = 47, classified as steady at iteration 5\n",
      "Experiment 3: Length 94, n_t = 47, classified as steady at iteration 18\n",
      "Experiment 4: Length 94, n_t = 47, classified as steady at iteration 15\n",
      "Experiment 5: Length 94, n_t = 47, classified as steady at iteration 16\n",
      "Experiment 6: Length 94, n_t = 47, classified as steady at iteration 16\n",
      "Experiment 7: Length 94, n_t = 47, classified as steady at iteration 13\n",
      "Experiment 8: Length 94, n_t = 47, classified as steady at iteration 17\n",
      "Experiment 9: Length 94, n_t = 47, classified as steady at iteration 15\n",
      "Experiment 10: Length 94, n_t = 47, classified as steady at iteration 13\n",
      "Experiment 11: Length 93, n_t = 46, classified as steady at iteration 13\n",
      "Experiment 12: Length 94, n_t = 47, classified as steady at iteration 18\n"
     ]
    },
    {
     "data": {
      "image/png": "[encoded data removed]",
      "text/plain": [
       "<Figure size 1200x600 with 12 Axes>"
      ]
     },
     "metadata": {},
     "output_type": "display_data"
    }
   ],
   "source": [
    "plt.rcParams['figure.figsize'] = [12, 6]\n",
    "fig = plt.figure()\n",
    "fig.tight_layout()\n",
    "\n",
    "# Pick 12 random experiments\n",
    "indices = np.random.randint(low=0, high=96, size=12, dtype=int)\n",
    "\n",
    "for i in range(len(indices)):\n",
    "     \n",
    "    experiment = pd.json_normalize(data[indices[i]])\n",
    "    \n",
    "    df = pd.DataFrame({\n",
    "        #p1 : experiment[p1].values[0],\n",
    "        #p2 : experiment[p2].values[0],\n",
    "        p3 : experiment[p3].values[0]\n",
    "    })\n",
    "    \n",
    "    rows = len(df.axes[0])\n",
    "    cols = len(df.axes[1])\n",
    "\n",
    "    # Find steady state threshold as index\n",
    "    n_t = int(t*rows)\n",
    "\n",
    "    # Find steady state drag threshold as index\n",
    "    n_td = int(t_d*rows)\n",
    "\n",
    "    # Plot voltages\n",
    "    xs = df.index\n",
    "    #ys1 = df[p1]\n",
    "    #ys2 = df[p2]\n",
    "    ys3 = df[p3]\n",
    "\n",
    "    plt.subplot(3, 4, i+1)\n",
    "    #plt.plot(xs,ys1)\n",
    "    #plt.plot(xs,ys2)\n",
    "    plt.plot(xs,ys3)\n",
    "\n",
    "    '''for j in range(0, n_t + n_td):\n",
    "\n",
    "        if all(df[p].tail(rows-j).std() <= sigma_t for p in params):\n",
    "            plt.axvline(x = j, color='black', linestyle='dashed')\n",
    "            if (j <= n_t):\n",
    "                print(f'Experiment {i+1}: Length {rows}, n_t = {n_t}, classified as steady at iteration {j}')\n",
    "                break\n",
    "            else:\n",
    "                print(f'RERUN experiment {i+1}: Length {rows}, n_td = {n_td}, at iteration {j}')\n",
    "                break'''\n",
    "    \n",
    "    '''std_splits = [np.std(k) for k in np.array_split(df[p3].values, n_splits)]\n",
    "    t_index = np.round(t*len(std_splits)).astype(int)\n",
    "    t_d_index = np.round(t_d*len(std_splits)).astype(int)\n",
    "    for j in range(0, t_d_index):\n",
    "        if np.all(np.array(std_splits[j:]) <= sigma_t):\n",
    "            plt.axvline(x = j*n_splits, color='black', linestyle='dashed')\n",
    "            print(f'Experiment {i+1}: Length {rows}, classified as steady at split {j}, iteration: {j*n_splits}')\n",
    "            break'''\n",
    "    \n",
    "    for j in range(0, n_t + n_td):\n",
    "        tail = df[p3].tail(rows-j).values\n",
    "        sq_err = np.power((tail - np.mean(tail)), 2)\n",
    "        if np.all(sq_err <= 0.5):\n",
    "            plt.axvline(x = j, color='black', linestyle='dashed')\n",
    "            if (j <= n_t):\n",
    "                print(f'Experiment {i+1}: Length {rows}, n_t = {n_t}, classified as steady at iteration {j}')\n",
    "                break\n",
    "            else:\n",
    "                print(f'RERUN experiment {i+1}: Length {rows}, n_td = {n_td}, at iteration {j}')\n",
    "                break\n",
    "    \n",
    "    '''tail = df[p3].values\n",
    "    print(np.power((tail - np.mean(tail)), 2))'''\n",
    "        \n",
    "        \n",
    "\n",
    "plt.show()"
   ]
  },
  {
   "cell_type": "code",
   "execution_count": null,
   "id": "c45d8547",
   "metadata": {},
   "outputs": [],
   "source": []
  },
  {
   "cell_type": "code",
   "execution_count": null,
   "id": "7076995d",
   "metadata": {},
   "outputs": [],
   "source": []
  },
  {
   "cell_type": "code",
   "execution_count": null,
   "id": "f0d50968",
   "metadata": {},
   "outputs": [],
   "source": []
  },
  {
   "cell_type": "code",
   "execution_count": null,
   "id": "6b6e2643",
   "metadata": {},
   "outputs": [],
   "source": []
  },
  {
   "cell_type": "markdown",
   "id": "83f671d5",
   "metadata": {},
   "source": [
    "## Will rework the steady classifier to chunk instead of window"
   ]
  },
  {
   "cell_type": "code",
   "execution_count": 7,
   "id": "ad82e330",
   "metadata": {},
   "outputs": [],
   "source": [
    "# [np.std(i) for i in np.array_split(x, 4)]\n",
    "# if std from before t to end of arr < threshold: stable\n",
    "# if std from t to t_drag: rerun\n",
    "\n",
    "# TODO: figure out the formula for mapping time percentage to entry in x_split"
   ]
  },
  {
   "cell_type": "code",
   "execution_count": 8,
   "id": "88d2e8f2",
   "metadata": {},
   "outputs": [
    {
     "data": {
      "text/plain": [
       "[1.118033988749895,\n",
       " 1.118033988749895,\n",
       " 1.118033988749895,\n",
       " 1.118033988749895,\n",
       " 0.816496580927726]"
      ]
     },
     "execution_count": 8,
     "metadata": {},
     "output_type": "execute_result"
    }
   ],
   "source": [
    "x = np.arange(19)\n",
    "x_split = [np.std(i) for i in np.array_split(x, 5)]\n",
    "x_split"
   ]
  },
  {
   "cell_type": "code",
   "execution_count": 9,
   "id": "cc85053c",
   "metadata": {},
   "outputs": [],
   "source": [
    "index = np.round(t*len(x_split))\n"
   ]
  },
  {
   "cell_type": "code",
   "execution_count": 10,
   "id": "e9c97bb6",
   "metadata": {},
   "outputs": [
    {
     "data": {
      "text/plain": [
       "True"
      ]
     },
     "execution_count": 10,
     "metadata": {},
     "output_type": "execute_result"
    }
   ],
   "source": [
    "np.all(np.array(x_split[index.astype(int):]) < 1.2)"
   ]
  },
  {
   "cell_type": "code",
   "execution_count": null,
   "id": "97e1d225",
   "metadata": {},
   "outputs": [],
   "source": []
  },
  {
   "cell_type": "code",
   "execution_count": 11,
   "id": "7fccd2ab",
   "metadata": {},
   "outputs": [
    {
     "data": {
      "text/plain": [
       "True"
      ]
     },
     "execution_count": 11,
     "metadata": {},
     "output_type": "execute_result"
    }
   ],
   "source": [
    "x = np.arange(19)\n",
    "x_split = [np.std(i) for i in np.array_split(x, 5)]\n",
    "index = np.round(t*len(x_split))\n",
    "np.all(np.array(x_split[index.astype(int):]) < 1.2)"
   ]
  },
  {
   "cell_type": "code",
   "execution_count": null,
   "id": "f1b6af7e",
   "metadata": {},
   "outputs": [],
   "source": []
  },
  {
   "cell_type": "code",
   "execution_count": null,
   "id": "6b774b09",
   "metadata": {},
   "outputs": [],
   "source": []
  },
  {
   "cell_type": "code",
   "execution_count": 12,
   "id": "8384afe0",
   "metadata": {},
   "outputs": [
    {
     "data": {
      "text/plain": [
       "array([29.16, 11.56,  0.16,  6.76, 43.56])"
      ]
     },
     "execution_count": 12,
     "metadata": {},
     "output_type": "execute_result"
    }
   ],
   "source": [
    "a = np.array([1, 3, 6, 9, 13])\n",
    "np.power((a - np.mean(a)), 2)"
   ]
  },
  {
   "cell_type": "code",
   "execution_count": null,
   "id": "37890306",
   "metadata": {},
   "outputs": [],
   "source": []
  },
  {
   "cell_type": "code",
   "execution_count": null,
   "id": "19fdd3d6",
   "metadata": {},
   "outputs": [],
   "source": []
  },
  {
   "cell_type": "code",
   "execution_count": null,
   "id": "6fc6b0a1",
   "metadata": {},
   "outputs": [],
   "source": []
  }
 ],
 "metadata": {
  "kernelspec": {
   "display_name": "Python 3 (ipykernel)",
   "language": "python",
   "name": "python3"
  },
  "language_info": {
   "codemirror_mode": {
    "name": "ipython",
    "version": 3
   },
   "file_extension": ".py",
   "mimetype": "text/x-python",
   "name": "python",
   "nbconvert_exporter": "python",
   "pygments_lexer": "ipython3",
   "version": "3.11.4"
  }
 },
 "nbformat": 4,
 "nbformat_minor": 5
}
