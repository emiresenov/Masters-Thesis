{
 "cells": [
  {
   "cell_type": "code",
   "execution_count": 10,
   "id": "84374f38",
   "metadata": {},
   "outputs": [],
   "source": [
    "import pandas as pd\n",
    "import numpy as np\n",
    "import matplotlib.pyplot as plt\n",
    "import glob\n",
    "from pymongo import MongoClient\n",
    "import re"
   ]
  },
  {
   "cell_type": "code",
   "execution_count": 11,
   "id": "98a72891",
   "metadata": {},
   "outputs": [],
   "source": [
    "# Connect to database server\n",
    "client = MongoClient()\n",
    "\n",
    "# Get database\n",
    "db = client.magnetron\n",
    "\n",
    "# Get collection\n",
    "collection = db.experiments"
   ]
  },
  {
   "cell_type": "markdown",
   "id": "ae6066ef",
   "metadata": {},
   "source": [
    "# TODO\n",
    "- ~~Fetch experiment info from CSV head~~\n",
    "- ~~Fetch experiment metadata from txt file~~\n",
    "- Classify each experiment\n",
    "- Calculate mean & std for each experiment\n",
    "- Create a full document dict for each experiment"
   ]
  },
  {
   "cell_type": "code",
   "execution_count": 28,
   "id": "2b832aa3",
   "metadata": {},
   "outputs": [
    {
     "name": "stdout",
     "output_type": "stream",
     "text": [
      "['Recording Set' '2024-1-29 10-28-24' 'KJLC']\n",
      "['Recording Set' '2024-1-29 10-33-4' 'KJLC']\n",
      "['Recording Set' '2024-1-29 10-41-31' 'KJLC']\n",
      "['Recording Set' '2024-1-29 10-35-0' 'KJLC']\n",
      "['Recording Set' '2024-1-29 10-39-14' 'KJLC']\n",
      "['Recording Set' '2024-1-29 10-36-43' 'KJLC']\n",
      "['Recording Set' '2024-1-29 10-31-53' 'KJLC']\n",
      "['Recording Set' '2024-1-29 10-41-3' 'KJLC']\n",
      "['Recording Set' '2024-1-29 10-30-29' 'KJLC']\n",
      "['Recording Set' '2024-1-29 10-33-50' 'KJLC']\n",
      "['Recording Set' '2024-1-29 10-40-18' 'KJLC']\n",
      "['Recording Set' '2024-1-29 10-29-41' 'KJLC']\n"
     ]
    }
   ],
   "source": [
    "files = glob.glob(\"data/*.CSV\")\n",
    "\n",
    "# Need to specify how we link metadata to CSV files\n",
    "meta_txt = glob.glob(\"data/*.txt\")\n",
    "f = open(meta_txt[0], \"r\")\n",
    "metadata = f.readlines()\n",
    "metadata_columns = metadata[0].split()\n",
    "\n",
    "for i in range(len(files)):\n",
    "    \n",
    "    # Initialize document with a dict\n",
    "    doc = {}\n",
    "    \n",
    "    # Read experiment info \n",
    "    infodf = pd.read_csv(files[i], nrows=1) # only read info rows\n",
    "    \n",
    "    # Store experiment data (first few lines of CSV)\n",
    "    info_keys = infodf.columns.values\n",
    "    info_vals = infodf.iloc[0].values\n",
    "    \n",
    "    metadata[i+1].split()"
   ]
  },
  {
   "cell_type": "code",
   "execution_count": null,
   "id": "82643374",
   "metadata": {},
   "outputs": [],
   "source": []
  },
  {
   "cell_type": "code",
   "execution_count": null,
   "id": "df3ef0a6",
   "metadata": {},
   "outputs": [],
   "source": [
    "p1 = 'Power Supply 1 Voltage'\n",
    "p2 = 'Power Supply 3 Voltage'\n",
    "p3 = 'Power Supply 5 DC Bias'\n",
    "\n",
    "params = [p1,p2,p3]\n",
    "\n",
    "t = 0.5\n",
    "sigma_t = 1"
   ]
  },
  {
   "cell_type": "code",
   "execution_count": null,
   "id": "ce870ec4",
   "metadata": {},
   "outputs": [],
   "source": []
  },
  {
   "cell_type": "code",
   "execution_count": null,
   "id": "c3977512",
   "metadata": {},
   "outputs": [],
   "source": []
  }
 ],
 "metadata": {
  "kernelspec": {
   "display_name": "Python 3 (ipykernel)",
   "language": "python",
   "name": "python3"
  },
  "language_info": {
   "codemirror_mode": {
    "name": "ipython",
    "version": 3
   },
   "file_extension": ".py",
   "mimetype": "text/x-python",
   "name": "python",
   "nbconvert_exporter": "python",
   "pygments_lexer": "ipython3",
   "version": "3.11.4"
  }
 },
 "nbformat": 4,
 "nbformat_minor": 5
}
