{
 "cells": [
  {
   "cell_type": "code",
   "execution_count": 1,
   "id": "478a038d",
   "metadata": {},
   "outputs": [],
   "source": [
    "import pandas as pd\n",
    "import numpy as np\n",
    "import matplotlib.pyplot as plt\n",
    "import glob"
   ]
  },
  {
   "cell_type": "markdown",
   "id": "73266d91",
   "metadata": {},
   "source": [
    "# Stability/settled formula\n",
    "\n",
    "To identify a settled experiment, we consider the following parameters\n",
    "\n",
    "- let $\\sigma_t$ be the standard deviation which indicates the threshold for stability. We can use 1 as a default value if no specific value is given;\n",
    "- let $t \\in (0,1)$ be the threshold which marks the cutoff point for a settled experiment. E.g. if $t = 0.5$, then the entire last half of the experiment must be stable for an experiment to be considered settled;\n",
    "- let $\\boldsymbol{P}$ be a set containing the parameters of interest;\n",
    "\n",
    "For a given experiment, if the standard deviation $\\sigma$ of all parameters in $\\boldsymbol{P}$ stay below $\\sigma_t$ after $t$, then an experiment is classified as stable. Otherwise, it is classified as unstable.\n"
   ]
  },
  {
   "cell_type": "code",
   "execution_count": 2,
   "id": "8a136154",
   "metadata": {},
   "outputs": [],
   "source": [
    "p1 = 'Power Supply 1 Voltage'\n",
    "p2 = 'Power Supply 3 Voltage'\n",
    "p3 = 'Power Supply 5 DC Bias'\n",
    "\n",
    "params = [p1,p2,p3]\n",
    "\n",
    "files = glob.glob(\"data/*.CSV\")\n",
    "\n",
    "t = 0.5\n",
    "sigma_t = 1"
   ]
  },
  {
   "cell_type": "code",
   "execution_count": 3,
   "id": "d78f0ecc",
   "metadata": {},
   "outputs": [],
   "source": [
    "def classify(params, sigma_t, t):\n",
    "\n",
    "    for i in range(len(files)):\n",
    "        \n",
    "        # Read csv\n",
    "        df = pd.read_csv(files[i], skiprows=[0,1])\n",
    "        df['Time Stamp'] = pd.to_datetime(df['Time Stamp'])\n",
    "        \n",
    "        # Get size\n",
    "        rows = len(df.axes[0])\n",
    "        cols = len(df.axes[1])\n",
    "        \n",
    "        # Calculate tail size, (last n amount of time series values to check for stability)\n",
    "        n_tail = np.rint(rows*(1-t)).astype(int)\n",
    "        \n",
    "        stds = []\n",
    "        for p in params:\n",
    "            std = df[p].tail(n_tail).std()\n",
    "            stds.append(std)\n",
    "        \n",
    "        print(all(std <= sigma_t for std in stds))\n",
    "        "
   ]
  },
  {
   "cell_type": "code",
   "execution_count": 4,
   "id": "86d04528",
   "metadata": {},
   "outputs": [
    {
     "name": "stdout",
     "output_type": "stream",
     "text": [
      "True\n",
      "True\n",
      "False\n",
      "True\n",
      "True\n",
      "True\n",
      "True\n",
      "False\n",
      "True\n",
      "True\n",
      "False\n",
      "True\n"
     ]
    }
   ],
   "source": [
    "classify(params, sigma_t, t)"
   ]
  },
  {
   "cell_type": "markdown",
   "id": "040f2386",
   "metadata": {},
   "source": [
    "![title](figs/download.png)"
   ]
  },
  {
   "cell_type": "code",
   "execution_count": null,
   "id": "1b385202",
   "metadata": {},
   "outputs": [],
   "source": []
  }
 ],
 "metadata": {
  "kernelspec": {
   "display_name": "Python 3 (ipykernel)",
   "language": "python",
   "name": "python3"
  },
  "language_info": {
   "codemirror_mode": {
    "name": "ipython",
    "version": 3
   },
   "file_extension": ".py",
   "mimetype": "text/x-python",
   "name": "python",
   "nbconvert_exporter": "python",
   "pygments_lexer": "ipython3",
   "version": "3.11.4"
  }
 },
 "nbformat": 4,
 "nbformat_minor": 5
}
