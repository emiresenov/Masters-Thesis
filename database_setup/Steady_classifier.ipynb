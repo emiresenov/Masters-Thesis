{
 "cells": [
  {
   "cell_type": "code",
   "execution_count": 1,
   "id": "6ecd80e8",
   "metadata": {},
   "outputs": [],
   "source": [
    "import pandas as pd\n",
    "import numpy as np\n",
    "import matplotlib.pyplot as plt\n",
    "import glob"
   ]
  },
  {
   "cell_type": "code",
   "execution_count": 2,
   "id": "67a25bf4",
   "metadata": {},
   "outputs": [],
   "source": [
    "files = glob.glob(\"data/*.CSV\")"
   ]
  },
  {
   "cell_type": "code",
   "execution_count": 3,
   "id": "0d48a029",
   "metadata": {},
   "outputs": [],
   "source": [
    "def process_df(df):\n",
    "    '''\n",
    "    Converts time stamp column from String datetime to seconds starting from 0 \n",
    "    and rounds values of selected columns (all but PC Source X Freq and PC Source X Q) \n",
    "    to 3 decimals\n",
    "    \n",
    "    Parameters\n",
    "    ----------\n",
    "    df: pandas df of experiment CSV\n",
    "    \n",
    "    \n",
    "    Returns\n",
    "    ---------\n",
    "    date: string of experiment date (mm/dd/yy)\n",
    "    df: pandas df with converted time column and 3 decimal values for all columns\n",
    "    '''\n",
    "    \n",
    "    # Convert to datetime\n",
    "    df['Time Stamp'] = pd.to_datetime(df['Time Stamp'])\n",
    "    \n",
    "    # Save date\n",
    "    date = df['Time Stamp'].iloc[0].date().strftime('%m/%d/%Y')\n",
    "\n",
    "    # Convert datetime to seconds starting from zero\n",
    "    df['Time Stamp'] = (df['Time Stamp'] - df['Time Stamp'].iloc[0]).dt.total_seconds()\n",
    "    \n",
    "    # Round selected columns to three decimals\n",
    "    rounded_columns = []\n",
    "\n",
    "    for i in df.columns.values:\n",
    "        if 'PC Source' not in i:\n",
    "            rounded_columns.append(i)\n",
    "\n",
    "    df[rounded_columns] = df[rounded_columns].round(3)\n",
    "\n",
    "    \n",
    "    return date, df"
   ]
  },
  {
   "cell_type": "markdown",
   "id": "40cd814f",
   "metadata": {},
   "source": [
    "# Formula for identifying a steady experiment\n",
    "\n",
    "- let $\\sigma_t$ be the standard deviation which indicates the threshold for stability. We can use 1 as a default value if no specific value is given (default value based on exploratory analysis);\n",
    "- let $t \\in (0,1)$ be the percentage threshold that marks the cutoff point in time for a steady experiment, e.g. if $t = 0.5$, then at least the entire last half of the experiment must be steady for an experiment to be considered steady;\n",
    "- let $\\boldsymbol{P}$ be a set containing the parameters that define the steady experiment. For an experiment to be considered steady, **all** parameters $p \\in \\boldsymbol{P}$ must fulfill $\\sigma_p \\leq \\sigma_t$;\n",
    "- let $n$ be the number of time series measurements.\n",
    "\n",
    "To identify whether an experiment reaches steady state, we iterate through the time series measurements of an experiment from index $j = 1, ..., t \\times n$. In each iteration, if all time series measurements $t_j,...,t_n$  for all parameters $p \\in \\boldsymbol{P}$ has a standard deviation $\\sigma \\leq \\sigma_t$, then the experiment is classified as steady from $t_j$ to $t_n$. If the experiment has not been classified as steady until iteration $t \\times n$, then the experiment is considered unsteady.\n",
    "\n",
    "## Add-on\n",
    "\n",
    "We also want to check if the experiment settles after $t$ up to some time cutoff (settling with e.g. 0.1s left is not considered steady). If it does, we want to rerun the experiment with the same settings.\n",
    "\n",
    "- let $t_d \\in (0, 1 - t)$ be the time window to check for steadiness after $t$.\n",
    "\n",
    "From $k = t \\times n , ..., t \\times n + t_d$, check if all time series measurements $t_k,...,t_n$  for all parameters $p \\in \\boldsymbol{P}$ has a standard deviation $\\sigma \\leq \\sigma_t$, then the experiment is classified as steady from $t_k$ to $t_n$, and we send a signal to rerun the experiment with the same settings."
   ]
  },
  {
   "cell_type": "code",
   "execution_count": 4,
   "id": "426ce1bc",
   "metadata": {},
   "outputs": [],
   "source": [
    "def steady(params, t=0.5, t_d = 0.3, sigma_t=1):\n",
    "\n",
    "    for i in range(len(files)):\n",
    "\n",
    "        # Read csv\n",
    "        df = pd.read_csv(files[i], skiprows=[0,1])\n",
    "\n",
    "        # Retrieve date and processed df\n",
    "        date, df = process_df(df)\n",
    "\n",
    "        rows = len(df.axes[0])\n",
    "        cols = len(df.axes[1])\n",
    "\n",
    "        # Find steady state threshold as index\n",
    "        n_t = int(t*rows)\n",
    "        \n",
    "        # Find steady state drag threshold as index\n",
    "        n_td = int(t_d*rows)\n",
    "        \n",
    "        for j in range(0, n_t + n_td):\n",
    "\n",
    "            if all(df[p].tail(rows-j).std() <= sigma_t for p in params):\n",
    "                if (j <= n_t):\n",
    "                    print(f'Experiment {i+1}: Length {rows}, n_t = {n_t}, classified as steady at iteration {j}, time: { df[\"Time Stamp\"].iloc[j] }s')\n",
    "                    break\n",
    "                else:\n",
    "                    print(f'RERUN experiment {i+1}: Length {rows}, n_td = {n_td}, at iteration {j}, time: { df[\"Time Stamp\"].iloc[j] }s')\n",
    "                    break"
   ]
  },
  {
   "cell_type": "code",
   "execution_count": 5,
   "id": "fec0bbd5",
   "metadata": {},
   "outputs": [
    {
     "name": "stdout",
     "output_type": "stream",
     "text": [
      "Experiment 1: Length 185, n_t = 92, classified as steady at iteration 0, time: 0.0s\n",
      "Experiment 2: Length 189, n_t = 94, classified as steady at iteration 43, time: 4.65s\n",
      "Experiment 4: Length 224, n_t = 112, classified as steady at iteration 6, time: 0.653s\n",
      "Experiment 5: Length 199, n_t = 99, classified as steady at iteration 10, time: 1.06s\n",
      "Experiment 6: Length 206, n_t = 103, classified as steady at iteration 8, time: 0.874s\n",
      "Experiment 7: Length 189, n_t = 94, classified as steady at iteration 12, time: 1.276s\n",
      "Experiment 9: Length 205, n_t = 102, classified as steady at iteration 31, time: 3.378s\n",
      "Experiment 10: Length 195, n_t = 97, classified as steady at iteration 0, time: 0.0s\n",
      "Experiment 12: Length 207, n_t = 103, classified as steady at iteration 24, time: 2.593s\n"
     ]
    }
   ],
   "source": [
    "p1 = 'Power Supply 1 Voltage'\n",
    "p2 = 'Power Supply 3 Voltage'\n",
    "p3 = 'Power Supply 5 DC Bias'\n",
    "\n",
    "steady_params = [p1,p2,p3]\n",
    "\n",
    "steady(steady_params)\n",
    "        "
   ]
  },
  {
   "cell_type": "markdown",
   "id": "7433e1cc",
   "metadata": {},
   "source": [
    "![title](../plots/12experiments.png)"
   ]
  },
  {
   "cell_type": "code",
   "execution_count": null,
   "id": "c1fd1a8b",
   "metadata": {},
   "outputs": [],
   "source": []
  },
  {
   "cell_type": "code",
   "execution_count": null,
   "id": "385d6984",
   "metadata": {},
   "outputs": [],
   "source": []
  }
 ],
 "metadata": {
  "kernelspec": {
   "display_name": "Python 3 (ipykernel)",
   "language": "python",
   "name": "python3"
  },
  "language_info": {
   "codemirror_mode": {
    "name": "ipython",
    "version": 3
   },
   "file_extension": ".py",
   "mimetype": "text/x-python",
   "name": "python",
   "nbconvert_exporter": "python",
   "pygments_lexer": "ipython3",
   "version": "3.11.4"
  }
 },
 "nbformat": 4,
 "nbformat_minor": 5
}
