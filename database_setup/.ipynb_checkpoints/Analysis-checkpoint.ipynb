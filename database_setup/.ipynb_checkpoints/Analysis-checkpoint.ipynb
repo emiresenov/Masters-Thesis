{
 "cells": [
  {
   "cell_type": "code",
   "execution_count": 1,
   "id": "903208c1",
   "metadata": {},
   "outputs": [],
   "source": [
    "import pandas as pd\n",
    "import numpy as np\n",
    "import matplotlib.pyplot as plt"
   ]
  },
  {
   "cell_type": "markdown",
   "id": "a8d21729",
   "metadata": {},
   "source": [
    "# Examine one of the files"
   ]
  },
  {
   "cell_type": "markdown",
   "id": "58615f5a",
   "metadata": {},
   "source": [
    "- **Question 1: Is it safe to hard code reading the first row to find experiment info and then skipping it to read the experment data? Can we count on the file format staying the same in the future? If we would like to make it more dynamic, how do we want to do it?**\n",
    "\n",
    "- **Question 2: we need a systematic way of linking the metadata to its corresponding csv file. In this example, I was given 12 files with a text file containing metadata for all csv files. Is this how it will always be, i.e. mapping one text file to multiple csv files on a deliberate way?**"
   ]
  },
  {
   "cell_type": "code",
   "execution_count": 2,
   "id": "b3c5ba45",
   "metadata": {},
   "outputs": [],
   "source": [
    "file = 'data/Recording Set 2024.01.29-10.33.04.CSV'"
   ]
  },
  {
   "cell_type": "code",
   "execution_count": 3,
   "id": "777c5969",
   "metadata": {},
   "outputs": [
    {
     "data": {
      "text/html": [
       "<div>\n",
       "<style scoped>\n",
       "    .dataframe tbody tr th:only-of-type {\n",
       "        vertical-align: middle;\n",
       "    }\n",
       "\n",
       "    .dataframe tbody tr th {\n",
       "        vertical-align: top;\n",
       "    }\n",
       "\n",
       "    .dataframe thead th {\n",
       "        text-align: right;\n",
       "    }\n",
       "</style>\n",
       "<table border=\"1\" class=\"dataframe\">\n",
       "  <thead>\n",
       "    <tr style=\"text-align: right;\">\n",
       "      <th></th>\n",
       "      <th>Recording Name</th>\n",
       "      <th>Date Started</th>\n",
       "      <th>User</th>\n",
       "    </tr>\n",
       "  </thead>\n",
       "  <tbody>\n",
       "    <tr>\n",
       "      <th>0</th>\n",
       "      <td>Recording Set</td>\n",
       "      <td>2024-1-29 10-33-4</td>\n",
       "      <td>KJLC</td>\n",
       "    </tr>\n",
       "  </tbody>\n",
       "</table>\n",
       "</div>"
      ],
      "text/plain": [
       "  Recording Name       Date Started  User\n",
       "0  Recording Set  2024-1-29 10-33-4  KJLC"
      ]
     },
     "execution_count": 3,
     "metadata": {},
     "output_type": "execute_result"
    }
   ],
   "source": [
    "# Read experiment info \n",
    "df = pd.read_csv(file, nrows=1) # skip \n",
    "df.head()"
   ]
  },
  {
   "cell_type": "code",
   "execution_count": 4,
   "id": "f4e5b596",
   "metadata": {},
   "outputs": [
    {
     "name": "stdout",
     "output_type": "stream",
     "text": [
      "Number of Rows:  189\n",
      "Number of Columns:  19\n"
     ]
    }
   ],
   "source": [
    "# Read experiment data\n",
    "df = pd.read_csv(file, skiprows=[0,1]) # skip \n",
    "\n",
    "# Look at data\n",
    "df.head()\n",
    "\n",
    "# Check size\n",
    "print(\"Number of Rows: \", len(df.axes[0]))\n",
    "print(\"Number of Columns: \", len(df.axes[1]))"
   ]
  },
  {
   "cell_type": "code",
   "execution_count": 5,
   "id": "860464d8",
   "metadata": {},
   "outputs": [
    {
     "data": {
      "text/html": [
       "<div>\n",
       "<style scoped>\n",
       "    .dataframe tbody tr th:only-of-type {\n",
       "        vertical-align: middle;\n",
       "    }\n",
       "\n",
       "    .dataframe tbody tr th {\n",
       "        vertical-align: top;\n",
       "    }\n",
       "\n",
       "    .dataframe thead th {\n",
       "        text-align: right;\n",
       "    }\n",
       "</style>\n",
       "<table border=\"1\" class=\"dataframe\">\n",
       "  <thead>\n",
       "    <tr style=\"text-align: right;\">\n",
       "      <th></th>\n",
       "      <th>Time Stamp</th>\n",
       "      <th>PC Capman Pressure</th>\n",
       "      <th>PC Source 2 Freq</th>\n",
       "      <th>PC Source 2 Q</th>\n",
       "      <th>PC Source 2 Rate</th>\n",
       "      <th>PC Source 4 Freq</th>\n",
       "      <th>PC Source 4 Q</th>\n",
       "      <th>PC Source 4 Rate</th>\n",
       "      <th>PC Source 6 Freq</th>\n",
       "      <th>PC Source 6 Q</th>\n",
       "      <th>PC Source 6 Rate</th>\n",
       "      <th>Power Supply 1 Power</th>\n",
       "      <th>Power Supply 1 Voltage</th>\n",
       "      <th>Power Supply 3 Power</th>\n",
       "      <th>Power Supply 3 Voltage</th>\n",
       "      <th>Power Supply 5 DC Bias</th>\n",
       "      <th>Power Supply 5 Fwd Power</th>\n",
       "      <th>PC High Vac Valve Position</th>\n",
       "      <th>PC MFC 1 Flow</th>\n",
       "    </tr>\n",
       "  </thead>\n",
       "  <tbody>\n",
       "    <tr>\n",
       "      <th>0</th>\n",
       "      <td>2024-01-29 10:33:04.240</td>\n",
       "      <td>19.996948</td>\n",
       "      <td>5.983075e+06</td>\n",
       "      <td>96.615039</td>\n",
       "      <td>0.000194</td>\n",
       "      <td>5.986816e+06</td>\n",
       "      <td>97.363152</td>\n",
       "      <td>0.000324</td>\n",
       "      <td>5.982953e+06</td>\n",
       "      <td>96.590667</td>\n",
       "      <td>-0.000314</td>\n",
       "      <td>60.53446</td>\n",
       "      <td>210.424362</td>\n",
       "      <td>19.458659</td>\n",
       "      <td>264.849548</td>\n",
       "      <td>68</td>\n",
       "      <td>50</td>\n",
       "      <td>15</td>\n",
       "      <td>18.389105</td>\n",
       "    </tr>\n",
       "    <tr>\n",
       "      <th>1</th>\n",
       "      <td>2024-01-29 10:33:04.347</td>\n",
       "      <td>19.996948</td>\n",
       "      <td>5.983075e+06</td>\n",
       "      <td>96.615039</td>\n",
       "      <td>0.000194</td>\n",
       "      <td>5.986816e+06</td>\n",
       "      <td>97.363152</td>\n",
       "      <td>0.000324</td>\n",
       "      <td>5.982953e+06</td>\n",
       "      <td>96.590667</td>\n",
       "      <td>-0.000314</td>\n",
       "      <td>60.53446</td>\n",
       "      <td>210.424362</td>\n",
       "      <td>19.458659</td>\n",
       "      <td>264.849548</td>\n",
       "      <td>68</td>\n",
       "      <td>50</td>\n",
       "      <td>15</td>\n",
       "      <td>18.389105</td>\n",
       "    </tr>\n",
       "    <tr>\n",
       "      <th>2</th>\n",
       "      <td>2024-01-29 10:33:04.461</td>\n",
       "      <td>19.996948</td>\n",
       "      <td>5.983075e+06</td>\n",
       "      <td>96.615039</td>\n",
       "      <td>0.000194</td>\n",
       "      <td>5.986816e+06</td>\n",
       "      <td>97.363152</td>\n",
       "      <td>0.000324</td>\n",
       "      <td>5.982953e+06</td>\n",
       "      <td>96.590667</td>\n",
       "      <td>-0.000314</td>\n",
       "      <td>60.53446</td>\n",
       "      <td>210.424362</td>\n",
       "      <td>19.458659</td>\n",
       "      <td>264.849548</td>\n",
       "      <td>68</td>\n",
       "      <td>50</td>\n",
       "      <td>15</td>\n",
       "      <td>18.389105</td>\n",
       "    </tr>\n",
       "    <tr>\n",
       "      <th>3</th>\n",
       "      <td>2024-01-29 10:33:04.573</td>\n",
       "      <td>19.996948</td>\n",
       "      <td>5.983075e+06</td>\n",
       "      <td>96.615039</td>\n",
       "      <td>0.000194</td>\n",
       "      <td>5.986816e+06</td>\n",
       "      <td>97.363152</td>\n",
       "      <td>0.000324</td>\n",
       "      <td>5.982953e+06</td>\n",
       "      <td>96.590667</td>\n",
       "      <td>-0.000314</td>\n",
       "      <td>60.53446</td>\n",
       "      <td>210.424362</td>\n",
       "      <td>19.458659</td>\n",
       "      <td>264.849548</td>\n",
       "      <td>68</td>\n",
       "      <td>50</td>\n",
       "      <td>15</td>\n",
       "      <td>18.469703</td>\n",
       "    </tr>\n",
       "    <tr>\n",
       "      <th>4</th>\n",
       "      <td>2024-01-29 10:33:04.682</td>\n",
       "      <td>19.996948</td>\n",
       "      <td>5.983075e+06</td>\n",
       "      <td>96.615039</td>\n",
       "      <td>0.000194</td>\n",
       "      <td>5.986816e+06</td>\n",
       "      <td>97.363152</td>\n",
       "      <td>0.000324</td>\n",
       "      <td>5.982953e+06</td>\n",
       "      <td>96.590667</td>\n",
       "      <td>-0.000314</td>\n",
       "      <td>60.53446</td>\n",
       "      <td>210.424362</td>\n",
       "      <td>19.458659</td>\n",
       "      <td>264.849548</td>\n",
       "      <td>68</td>\n",
       "      <td>50</td>\n",
       "      <td>15</td>\n",
       "      <td>18.469703</td>\n",
       "    </tr>\n",
       "  </tbody>\n",
       "</table>\n",
       "</div>"
      ],
      "text/plain": [
       "               Time Stamp  PC Capman Pressure  PC Source 2 Freq  \\\n",
       "0 2024-01-29 10:33:04.240           19.996948      5.983075e+06   \n",
       "1 2024-01-29 10:33:04.347           19.996948      5.983075e+06   \n",
       "2 2024-01-29 10:33:04.461           19.996948      5.983075e+06   \n",
       "3 2024-01-29 10:33:04.573           19.996948      5.983075e+06   \n",
       "4 2024-01-29 10:33:04.682           19.996948      5.983075e+06   \n",
       "\n",
       "   PC Source 2 Q  PC Source 2 Rate  PC Source 4 Freq  PC Source 4 Q  \\\n",
       "0      96.615039          0.000194      5.986816e+06      97.363152   \n",
       "1      96.615039          0.000194      5.986816e+06      97.363152   \n",
       "2      96.615039          0.000194      5.986816e+06      97.363152   \n",
       "3      96.615039          0.000194      5.986816e+06      97.363152   \n",
       "4      96.615039          0.000194      5.986816e+06      97.363152   \n",
       "\n",
       "   PC Source 4 Rate  PC Source 6 Freq  PC Source 6 Q  PC Source 6 Rate  \\\n",
       "0          0.000324      5.982953e+06      96.590667         -0.000314   \n",
       "1          0.000324      5.982953e+06      96.590667         -0.000314   \n",
       "2          0.000324      5.982953e+06      96.590667         -0.000314   \n",
       "3          0.000324      5.982953e+06      96.590667         -0.000314   \n",
       "4          0.000324      5.982953e+06      96.590667         -0.000314   \n",
       "\n",
       "   Power Supply 1 Power  Power Supply 1 Voltage  Power Supply 3 Power  \\\n",
       "0              60.53446              210.424362             19.458659   \n",
       "1              60.53446              210.424362             19.458659   \n",
       "2              60.53446              210.424362             19.458659   \n",
       "3              60.53446              210.424362             19.458659   \n",
       "4              60.53446              210.424362             19.458659   \n",
       "\n",
       "   Power Supply 3 Voltage  Power Supply 5 DC Bias  Power Supply 5 Fwd Power  \\\n",
       "0              264.849548                      68                        50   \n",
       "1              264.849548                      68                        50   \n",
       "2              264.849548                      68                        50   \n",
       "3              264.849548                      68                        50   \n",
       "4              264.849548                      68                        50   \n",
       "\n",
       "   PC High Vac Valve Position  PC MFC 1 Flow  \n",
       "0                          15      18.389105  \n",
       "1                          15      18.389105  \n",
       "2                          15      18.389105  \n",
       "3                          15      18.469703  \n",
       "4                          15      18.469703  "
      ]
     },
     "execution_count": 5,
     "metadata": {},
     "output_type": "execute_result"
    }
   ],
   "source": [
    "# Convert to datetime\n",
    "df['Time Stamp'] = pd.to_datetime(df['Time Stamp'], errors='coerce')\n",
    "df.head()"
   ]
  },
  {
   "cell_type": "markdown",
   "id": "48e24827",
   "metadata": {},
   "source": [
    "# Rudimentary data analysis"
   ]
  },
  {
   "cell_type": "code",
   "execution_count": 6,
   "id": "e6767935",
   "metadata": {},
   "outputs": [],
   "source": [
    "p1 = 'Power Supply 1 Voltage'\n",
    "p2 = 'Power Supply 3 Voltage'\n",
    "p3 = 'Power Supply 5 DC Bias'"
   ]
  },
  {
   "cell_type": "code",
   "execution_count": 7,
   "id": "abe2a7ab",
   "metadata": {},
   "outputs": [
    {
     "data": {
      "image/png": "[encoded data removed]",
      "text/plain": [
       "<Figure size 640x480 with 1 Axes>"
      ]
     },
     "metadata": {},
     "output_type": "display_data"
    }
   ],
   "source": [
    "# Plot voltages\n",
    "xs = df.index\n",
    "\n",
    "ys1 = df[p1]\n",
    "ys2 = df[p2]\n",
    "ys3 = df[p3]\n",
    "\n",
    "plt.plot(xs,ys1)\n",
    "plt.plot(xs,ys2)\n",
    "plt.plot(xs,ys3)\n",
    "\n",
    "plt.show()"
   ]
  },
  {
   "cell_type": "code",
   "execution_count": 8,
   "id": "623b11cb",
   "metadata": {},
   "outputs": [
    {
     "name": "stdout",
     "output_type": "stream",
     "text": [
      "Power 1 min: 149.9265899658, max: 210.4243621826\n",
      "Power 2 min: 262.7349243164, max: 264.8495483398\n",
      "Power 3 min: 66, max: 68\n"
     ]
    }
   ],
   "source": [
    "# Analyze min and max\n",
    "p1max = df[p1].max()\n",
    "p1min = df[p1].min()\n",
    "\n",
    "p2max = df[p2].max()\n",
    "p2min = df[p2].min()\n",
    "\n",
    "p3max = df[p3].max()\n",
    "p3min = df[p3].min()\n",
    "\n",
    "print(f'Power 1 min: {p1min}, max: {p1max}')\n",
    "print(f'Power 2 min: {p2min}, max: {p2max}')\n",
    "print(f'Power 3 min: {p3min}, max: {p3max}')"
   ]
  },
  {
   "cell_type": "markdown",
   "id": "d1b1d9d2",
   "metadata": {},
   "source": [
    "## Conclusion: stability means fluctuation of roughly 2 V"
   ]
  },
  {
   "cell_type": "code",
   "execution_count": null,
   "id": "f259ad1e",
   "metadata": {},
   "outputs": [],
   "source": []
  },
  {
   "cell_type": "markdown",
   "id": "fae1dd04",
   "metadata": {},
   "source": [
    "# TODO\n",
    "- Set up parameters and make dynamic: set a threshold time for acceptable stability (i.e. stability must have been reached in at least *s* seconds to be valid.\n",
    "- Set up parameter for time windows (time series lookback).\n",
    "- Figure out stability standard deviation metric.\n",
    "- Figure out db structure.\n",
    "- Install pymongo and load to db."
   ]
  },
  {
   "cell_type": "code",
   "execution_count": null,
   "id": "da4559a8",
   "metadata": {},
   "outputs": [],
   "source": []
  },
  {
   "cell_type": "code",
   "execution_count": null,
   "id": "2dbecd41",
   "metadata": {},
   "outputs": [],
   "source": []
  },
  {
   "cell_type": "code",
   "execution_count": null,
   "id": "9eeb9c9f",
   "metadata": {},
   "outputs": [],
   "source": []
  },
  {
   "cell_type": "code",
   "execution_count": null,
   "id": "b9495d1e",
   "metadata": {},
   "outputs": [],
   "source": []
  },
  {
   "cell_type": "code",
   "execution_count": null,
   "id": "14ec0d1e",
   "metadata": {},
   "outputs": [],
   "source": []
  },
  {
   "cell_type": "code",
   "execution_count": null,
   "id": "acc08396",
   "metadata": {},
   "outputs": [],
   "source": []
  },
  {
   "cell_type": "code",
   "execution_count": null,
   "id": "de6e2a06",
   "metadata": {},
   "outputs": [],
   "source": []
  },
  {
   "cell_type": "code",
   "execution_count": null,
   "id": "ccb61d7f",
   "metadata": {},
   "outputs": [],
   "source": []
  },
  {
   "cell_type": "code",
   "execution_count": null,
   "id": "c412d9a3",
   "metadata": {},
   "outputs": [],
   "source": []
  }
 ],
 "metadata": {
  "kernelspec": {
   "display_name": "Python 3 (ipykernel)",
   "language": "python",
   "name": "python3"
  },
  "language_info": {
   "codemirror_mode": {
    "name": "ipython",
    "version": 3
   },
   "file_extension": ".py",
   "mimetype": "text/x-python",
   "name": "python",
   "nbconvert_exporter": "python",
   "pygments_lexer": "ipython3",
   "version": "3.11.4"
  }
 },
 "nbformat": 4,
 "nbformat_minor": 5
}
