{
 "cells": [
  {
   "cell_type": "markdown",
   "id": "517e954f",
   "metadata": {},
   "source": [
    "- Campaign code (string) – an identifier for a larger block of experiments defined by the setup of the magnetrons, for example\n",
    "- Campaign description (string)\n",
    "- Material 1-3 (string) – 3 columns with info corresponding to the target materials installed (e.g. “Ba”, “Zr)\n",
    "- Magnetrons 1-3 (int)– 3 columns indicating which magnetrons materials are installed to.\n",
    "- Power supply 1-3 (string) 3 columns showing which power supplies are driving the respective magnetrons/materials.\n",
    "- Power supply 1 type (string) [a column for each of the 3 supplies]\n",
    "- Power supply 1 ramp rate (W/s) (int)  [a column for each of the 3 supplies]\n",
    "- Power supply 1 pulse frequency (Hz) (int) [a column for each of the three supplies]\n",
    "- Sputter gas (string)"
   ]
  },
  {
   "cell_type": "markdown",
   "id": "b1b9f02b",
   "metadata": {},
   "source": [
    "- Series code (string) – an identified for a set of experiments performed together\n",
    "- Series description (string)\n",
    "- Pre-sputter description (string)\n",
    "- Series start date (date)\n",
    "- Base pressure (float)\n",
    "- Algorithm (string) – an identifier for the algorithm being used to select experiment conditions"
   ]
  },
  {
   "cell_type": "markdown",
   "id": "0193683e",
   "metadata": {},
   "source": [
    "- Run code (string) – unique identifier for a single experimental run\n",
    "- Sample produced (bool)\n",
    "- Set power [W] (material 1) (int)\n",
    "- Set power [W] (material 2) (int)\n",
    "- Set power [W] (material 3) (int)\n",
    "- Set pressure [mTorr] (int)\n",
    "- Set flow [sccm] (int)\n",
    "- Run date/time (date/time) – taken from the first time step in the time series data  \n",
    "- Time series raw data\n",
    "- The columns from the example files I sent.\n",
    "- ONLY changes to the raw data: removal of lines 1-2; change time steps to count in second stating from 0.\n",
    "- Time series calculated/derived data:\n",
    "- Settling time [s], int/float\n",
    "- Stable process (bool)\n",
    "- Mean and standard dev for all columns\n",
    "- There will be additional columns for things calculated from the time series data (e.g. through David’s project, but I think we can add them later)."
   ]
  }
 ],
 "metadata": {
  "kernelspec": {
   "display_name": "Python 3 (ipykernel)",
   "language": "python",
   "name": "python3"
  },
  "language_info": {
   "codemirror_mode": {
    "name": "ipython",
    "version": 3
   },
   "file_extension": ".py",
   "mimetype": "text/x-python",
   "name": "python",
   "nbconvert_exporter": "python",
   "pygments_lexer": "ipython3",
   "version": "3.11.4"
  }
 },
 "nbformat": 4,
 "nbformat_minor": 5
}
